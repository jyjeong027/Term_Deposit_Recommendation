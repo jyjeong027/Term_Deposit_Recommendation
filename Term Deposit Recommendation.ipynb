{
 "cells": [
  {
   "cell_type": "markdown",
   "id": "92fb4cca-fd75-4fd7-b1dc-8fb5fcd2ac36",
   "metadata": {},
   "source": [
    "# [Project] Customer Targeting Strategy for Bank Term Deposit Promotions"
   ]
  },
  {
   "cell_type": "markdown",
   "id": "444ffe6b-8eed-4c82-83f6-15e0d3d994b6",
   "metadata": {
    "jp-MarkdownHeadingCollapsed": true
   },
   "source": [
    "## Guideline\n",
    "\n",
    "1. Data Import\n",
    "2. Data Cleaning\n",
    "3. EDA\n",
    "4. Modeling\n",
    "5. Conclusion"
   ]
  },
  {
   "cell_type": "markdown",
   "id": "42a1808d-8b8c-4ea0-9c09-8df2cc3580b3",
   "metadata": {},
   "source": [
    "## 1. Data Import "
   ]
  },
  {
   "cell_type": "code",
   "execution_count": 135,
   "id": "d6f6700a-5ac0-47ae-8c49-d318038b60ea",
   "metadata": {},
   "outputs": [],
   "source": [
    "import pandas as pd\n",
    "import numpy as np\n",
    "import matplotlib.pyplot as plt \n",
    "import seaborn as sns \n",
    "from sklearn.inspection import PartialDependenceDisplay"
   ]
  },
  {
   "cell_type": "code",
   "execution_count": 38,
   "id": "4d804648-c078-47cc-a90a-79a2b9692444",
   "metadata": {},
   "outputs": [
    {
     "name": "stdout",
     "output_type": "stream",
     "text": [
      "(45211, 16)\n"
     ]
    },
    {
     "data": {
      "text/html": [
       "<div>\n",
       "<style scoped>\n",
       "    .dataframe tbody tr th:only-of-type {\n",
       "        vertical-align: middle;\n",
       "    }\n",
       "\n",
       "    .dataframe tbody tr th {\n",
       "        vertical-align: top;\n",
       "    }\n",
       "\n",
       "    .dataframe thead th {\n",
       "        text-align: right;\n",
       "    }\n",
       "</style>\n",
       "<table border=\"1\" class=\"dataframe\">\n",
       "  <thead>\n",
       "    <tr style=\"text-align: right;\">\n",
       "      <th></th>\n",
       "      <th>age</th>\n",
       "      <th>job</th>\n",
       "      <th>marital</th>\n",
       "      <th>education</th>\n",
       "      <th>default</th>\n",
       "      <th>balance</th>\n",
       "      <th>housing</th>\n",
       "      <th>loan</th>\n",
       "      <th>contact</th>\n",
       "      <th>day</th>\n",
       "      <th>month</th>\n",
       "      <th>campaign</th>\n",
       "      <th>pdays</th>\n",
       "      <th>previous</th>\n",
       "      <th>poutcome</th>\n",
       "      <th>y</th>\n",
       "    </tr>\n",
       "  </thead>\n",
       "  <tbody>\n",
       "    <tr>\n",
       "      <th>0</th>\n",
       "      <td>58</td>\n",
       "      <td>management</td>\n",
       "      <td>married</td>\n",
       "      <td>tertiary</td>\n",
       "      <td>no</td>\n",
       "      <td>2143.0</td>\n",
       "      <td>yes</td>\n",
       "      <td>no</td>\n",
       "      <td>unknown</td>\n",
       "      <td>5.0</td>\n",
       "      <td>may</td>\n",
       "      <td>1.0</td>\n",
       "      <td>-1</td>\n",
       "      <td>0</td>\n",
       "      <td>unknown</td>\n",
       "      <td>no</td>\n",
       "    </tr>\n",
       "    <tr>\n",
       "      <th>1</th>\n",
       "      <td>44</td>\n",
       "      <td>technician</td>\n",
       "      <td>single</td>\n",
       "      <td>secondary</td>\n",
       "      <td>no</td>\n",
       "      <td>29.0</td>\n",
       "      <td>yes</td>\n",
       "      <td>no</td>\n",
       "      <td>unknown</td>\n",
       "      <td>5.0</td>\n",
       "      <td>may</td>\n",
       "      <td>1.0</td>\n",
       "      <td>-1</td>\n",
       "      <td>0</td>\n",
       "      <td>unknown</td>\n",
       "      <td>no</td>\n",
       "    </tr>\n",
       "    <tr>\n",
       "      <th>2</th>\n",
       "      <td>33</td>\n",
       "      <td>entrepreneur</td>\n",
       "      <td>married</td>\n",
       "      <td>secondary</td>\n",
       "      <td>no</td>\n",
       "      <td>2.0</td>\n",
       "      <td>yes</td>\n",
       "      <td>yes</td>\n",
       "      <td>unknown</td>\n",
       "      <td>5.0</td>\n",
       "      <td>may</td>\n",
       "      <td>1.0</td>\n",
       "      <td>-1</td>\n",
       "      <td>0</td>\n",
       "      <td>unknown</td>\n",
       "      <td>no</td>\n",
       "    </tr>\n",
       "    <tr>\n",
       "      <th>3</th>\n",
       "      <td>47</td>\n",
       "      <td>blue-collar</td>\n",
       "      <td>married</td>\n",
       "      <td>unknown</td>\n",
       "      <td>no</td>\n",
       "      <td>1506.0</td>\n",
       "      <td>yes</td>\n",
       "      <td>no</td>\n",
       "      <td>unknown</td>\n",
       "      <td>5.0</td>\n",
       "      <td>may</td>\n",
       "      <td>1.0</td>\n",
       "      <td>-1</td>\n",
       "      <td>0</td>\n",
       "      <td>unknown</td>\n",
       "      <td>no</td>\n",
       "    </tr>\n",
       "    <tr>\n",
       "      <th>4</th>\n",
       "      <td>33</td>\n",
       "      <td>unknown</td>\n",
       "      <td>single</td>\n",
       "      <td>unknown</td>\n",
       "      <td>no</td>\n",
       "      <td>1.0</td>\n",
       "      <td>no</td>\n",
       "      <td>no</td>\n",
       "      <td>unknown</td>\n",
       "      <td>5.0</td>\n",
       "      <td>may</td>\n",
       "      <td>1.0</td>\n",
       "      <td>-1</td>\n",
       "      <td>0</td>\n",
       "      <td>unknown</td>\n",
       "      <td>no</td>\n",
       "    </tr>\n",
       "  </tbody>\n",
       "</table>\n",
       "</div>"
      ],
      "text/plain": [
       "   age           job  marital  education default  balance housing loan  \\\n",
       "0   58    management  married   tertiary      no   2143.0     yes   no   \n",
       "1   44    technician   single  secondary      no     29.0     yes   no   \n",
       "2   33  entrepreneur  married  secondary      no      2.0     yes  yes   \n",
       "3   47   blue-collar  married    unknown      no   1506.0     yes   no   \n",
       "4   33       unknown   single    unknown      no      1.0      no   no   \n",
       "\n",
       "   contact  day month  campaign  pdays  previous poutcome   y  \n",
       "0  unknown  5.0   may       1.0     -1         0  unknown  no  \n",
       "1  unknown  5.0   may       1.0     -1         0  unknown  no  \n",
       "2  unknown  5.0   may       1.0     -1         0  unknown  no  \n",
       "3  unknown  5.0   may       1.0     -1         0  unknown  no  \n",
       "4  unknown  5.0   may       1.0     -1         0  unknown  no  "
      ]
     },
     "execution_count": 38,
     "metadata": {},
     "output_type": "execute_result"
    }
   ],
   "source": [
    "bank_df = pd.read_csv('/Users/florajeong/Desktop/UCLA/Pre UCLA/MSBA Prep/Codeit Data Science/bank.csv')\n",
    "print(bank_df.shape)\n",
    "bank_df.head()"
   ]
  },
  {
   "cell_type": "markdown",
   "id": "31ad63eb-d8f2-4b10-86db-7382a3aa0b06",
   "metadata": {},
   "source": [
    "## 2. Data Cleaning"
   ]
  },
  {
   "cell_type": "markdown",
   "id": "3a89c1e1-a887-4f4b-aac6-81370ec1db34",
   "metadata": {},
   "source": [
    "### 2.1 Null Values"
   ]
  },
  {
   "cell_type": "code",
   "execution_count": 39,
   "id": "641e16cb-373f-443f-847b-15697fda395c",
   "metadata": {
    "scrolled": true
   },
   "outputs": [
    {
     "data": {
      "text/plain": [
       "age          0\n",
       "job          1\n",
       "marital      1\n",
       "education    3\n",
       "default      0\n",
       "balance      2\n",
       "housing      4\n",
       "loan         0\n",
       "contact      1\n",
       "day          1\n",
       "month        2\n",
       "campaign     1\n",
       "pdays        0\n",
       "previous     0\n",
       "poutcome     1\n",
       "y            0\n",
       "dtype: int64"
      ]
     },
     "execution_count": 39,
     "metadata": {},
     "output_type": "execute_result"
    }
   ],
   "source": [
    "# Check for Null Values \n",
    "bank_df.isnull().sum()"
   ]
  },
  {
   "cell_type": "code",
   "execution_count": 40,
   "id": "313a1765-befd-4a76-8903-e666b6503f23",
   "metadata": {},
   "outputs": [
    {
     "data": {
      "text/plain": [
       "age          0\n",
       "job          0\n",
       "marital      0\n",
       "education    0\n",
       "default      0\n",
       "balance      0\n",
       "housing      0\n",
       "loan         0\n",
       "contact      0\n",
       "day          0\n",
       "month        0\n",
       "campaign     0\n",
       "pdays        0\n",
       "previous     0\n",
       "poutcome     0\n",
       "y            0\n",
       "dtype: int64"
      ]
     },
     "execution_count": 40,
     "metadata": {},
     "output_type": "execute_result"
    }
   ],
   "source": [
    "# Get all rows with null in any one of the columns \n",
    "bank_df[bank_df.isna().any(axis=1)] \n",
    "\n",
    "# Drop all rows with null in any one of the columns\n",
    "bank_df = bank_df.dropna()\n",
    "\n",
    "# Check null values are dropped\n",
    "bank_df.isnull().sum()"
   ]
  },
  {
   "cell_type": "markdown",
   "id": "037cd8ae-a649-4448-b7fc-6fc793865f21",
   "metadata": {},
   "source": [
    "### 2.2 Outliers"
   ]
  },
  {
   "cell_type": "code",
   "execution_count": 23,
   "id": "d4dd74a8-e8b4-495d-a799-f58b675b15df",
   "metadata": {},
   "outputs": [
    {
     "data": {
      "text/html": [
       "<div>\n",
       "<style scoped>\n",
       "    .dataframe tbody tr th:only-of-type {\n",
       "        vertical-align: middle;\n",
       "    }\n",
       "\n",
       "    .dataframe tbody tr th {\n",
       "        vertical-align: top;\n",
       "    }\n",
       "\n",
       "    .dataframe thead th {\n",
       "        text-align: right;\n",
       "    }\n",
       "</style>\n",
       "<table border=\"1\" class=\"dataframe\">\n",
       "  <thead>\n",
       "    <tr style=\"text-align: right;\">\n",
       "      <th></th>\n",
       "      <th>age</th>\n",
       "      <th>job</th>\n",
       "      <th>marital</th>\n",
       "      <th>education</th>\n",
       "      <th>default</th>\n",
       "      <th>balance</th>\n",
       "      <th>housing</th>\n",
       "      <th>loan</th>\n",
       "      <th>contact</th>\n",
       "      <th>day</th>\n",
       "      <th>month</th>\n",
       "      <th>campaign</th>\n",
       "      <th>pdays</th>\n",
       "      <th>previous</th>\n",
       "      <th>poutcome</th>\n",
       "      <th>y</th>\n",
       "    </tr>\n",
       "  </thead>\n",
       "  <tbody>\n",
       "    <tr>\n",
       "      <th>count</th>\n",
       "      <td>45194.000000</td>\n",
       "      <td>45194</td>\n",
       "      <td>45194</td>\n",
       "      <td>45194</td>\n",
       "      <td>45194</td>\n",
       "      <td>45194.000000</td>\n",
       "      <td>45194</td>\n",
       "      <td>45194</td>\n",
       "      <td>45194</td>\n",
       "      <td>45194.000000</td>\n",
       "      <td>45194</td>\n",
       "      <td>45194.000000</td>\n",
       "      <td>45194.000000</td>\n",
       "      <td>45194.000000</td>\n",
       "      <td>45194</td>\n",
       "      <td>45194</td>\n",
       "    </tr>\n",
       "    <tr>\n",
       "      <th>unique</th>\n",
       "      <td>NaN</td>\n",
       "      <td>12</td>\n",
       "      <td>3</td>\n",
       "      <td>4</td>\n",
       "      <td>2</td>\n",
       "      <td>NaN</td>\n",
       "      <td>2</td>\n",
       "      <td>2</td>\n",
       "      <td>3</td>\n",
       "      <td>NaN</td>\n",
       "      <td>12</td>\n",
       "      <td>NaN</td>\n",
       "      <td>NaN</td>\n",
       "      <td>NaN</td>\n",
       "      <td>4</td>\n",
       "      <td>2</td>\n",
       "    </tr>\n",
       "    <tr>\n",
       "      <th>top</th>\n",
       "      <td>NaN</td>\n",
       "      <td>blue-collar</td>\n",
       "      <td>married</td>\n",
       "      <td>secondary</td>\n",
       "      <td>no</td>\n",
       "      <td>NaN</td>\n",
       "      <td>yes</td>\n",
       "      <td>no</td>\n",
       "      <td>cellular</td>\n",
       "      <td>NaN</td>\n",
       "      <td>may</td>\n",
       "      <td>NaN</td>\n",
       "      <td>NaN</td>\n",
       "      <td>NaN</td>\n",
       "      <td>unknown</td>\n",
       "      <td>no</td>\n",
       "    </tr>\n",
       "    <tr>\n",
       "      <th>freq</th>\n",
       "      <td>NaN</td>\n",
       "      <td>9727</td>\n",
       "      <td>27202</td>\n",
       "      <td>23192</td>\n",
       "      <td>44379</td>\n",
       "      <td>NaN</td>\n",
       "      <td>25115</td>\n",
       "      <td>37953</td>\n",
       "      <td>29285</td>\n",
       "      <td>NaN</td>\n",
       "      <td>13749</td>\n",
       "      <td>NaN</td>\n",
       "      <td>NaN</td>\n",
       "      <td>NaN</td>\n",
       "      <td>36942</td>\n",
       "      <td>39906</td>\n",
       "    </tr>\n",
       "    <tr>\n",
       "      <th>mean</th>\n",
       "      <td>40.934881</td>\n",
       "      <td>NaN</td>\n",
       "      <td>NaN</td>\n",
       "      <td>NaN</td>\n",
       "      <td>NaN</td>\n",
       "      <td>1362.677855</td>\n",
       "      <td>NaN</td>\n",
       "      <td>NaN</td>\n",
       "      <td>NaN</td>\n",
       "      <td>15.810484</td>\n",
       "      <td>NaN</td>\n",
       "      <td>2.764305</td>\n",
       "      <td>40.213325</td>\n",
       "      <td>0.580542</td>\n",
       "      <td>NaN</td>\n",
       "      <td>NaN</td>\n",
       "    </tr>\n",
       "    <tr>\n",
       "      <th>std</th>\n",
       "      <td>10.618777</td>\n",
       "      <td>NaN</td>\n",
       "      <td>NaN</td>\n",
       "      <td>NaN</td>\n",
       "      <td>NaN</td>\n",
       "      <td>3045.253737</td>\n",
       "      <td>NaN</td>\n",
       "      <td>NaN</td>\n",
       "      <td>NaN</td>\n",
       "      <td>8.321401</td>\n",
       "      <td>NaN</td>\n",
       "      <td>3.098496</td>\n",
       "      <td>100.144388</td>\n",
       "      <td>2.303847</td>\n",
       "      <td>NaN</td>\n",
       "      <td>NaN</td>\n",
       "    </tr>\n",
       "    <tr>\n",
       "      <th>min</th>\n",
       "      <td>18.000000</td>\n",
       "      <td>NaN</td>\n",
       "      <td>NaN</td>\n",
       "      <td>NaN</td>\n",
       "      <td>NaN</td>\n",
       "      <td>-8019.000000</td>\n",
       "      <td>NaN</td>\n",
       "      <td>NaN</td>\n",
       "      <td>NaN</td>\n",
       "      <td>1.000000</td>\n",
       "      <td>NaN</td>\n",
       "      <td>1.000000</td>\n",
       "      <td>-1.000000</td>\n",
       "      <td>0.000000</td>\n",
       "      <td>NaN</td>\n",
       "      <td>NaN</td>\n",
       "    </tr>\n",
       "    <tr>\n",
       "      <th>25%</th>\n",
       "      <td>33.000000</td>\n",
       "      <td>NaN</td>\n",
       "      <td>NaN</td>\n",
       "      <td>NaN</td>\n",
       "      <td>NaN</td>\n",
       "      <td>72.000000</td>\n",
       "      <td>NaN</td>\n",
       "      <td>NaN</td>\n",
       "      <td>NaN</td>\n",
       "      <td>8.000000</td>\n",
       "      <td>NaN</td>\n",
       "      <td>1.000000</td>\n",
       "      <td>-1.000000</td>\n",
       "      <td>0.000000</td>\n",
       "      <td>NaN</td>\n",
       "      <td>NaN</td>\n",
       "    </tr>\n",
       "    <tr>\n",
       "      <th>50%</th>\n",
       "      <td>39.000000</td>\n",
       "      <td>NaN</td>\n",
       "      <td>NaN</td>\n",
       "      <td>NaN</td>\n",
       "      <td>NaN</td>\n",
       "      <td>449.000000</td>\n",
       "      <td>NaN</td>\n",
       "      <td>NaN</td>\n",
       "      <td>NaN</td>\n",
       "      <td>16.000000</td>\n",
       "      <td>NaN</td>\n",
       "      <td>2.000000</td>\n",
       "      <td>-1.000000</td>\n",
       "      <td>0.000000</td>\n",
       "      <td>NaN</td>\n",
       "      <td>NaN</td>\n",
       "    </tr>\n",
       "    <tr>\n",
       "      <th>75%</th>\n",
       "      <td>48.000000</td>\n",
       "      <td>NaN</td>\n",
       "      <td>NaN</td>\n",
       "      <td>NaN</td>\n",
       "      <td>NaN</td>\n",
       "      <td>1428.000000</td>\n",
       "      <td>NaN</td>\n",
       "      <td>NaN</td>\n",
       "      <td>NaN</td>\n",
       "      <td>21.000000</td>\n",
       "      <td>NaN</td>\n",
       "      <td>3.000000</td>\n",
       "      <td>-1.000000</td>\n",
       "      <td>0.000000</td>\n",
       "      <td>NaN</td>\n",
       "      <td>NaN</td>\n",
       "    </tr>\n",
       "    <tr>\n",
       "      <th>max</th>\n",
       "      <td>95.000000</td>\n",
       "      <td>NaN</td>\n",
       "      <td>NaN</td>\n",
       "      <td>NaN</td>\n",
       "      <td>NaN</td>\n",
       "      <td>102127.000000</td>\n",
       "      <td>NaN</td>\n",
       "      <td>NaN</td>\n",
       "      <td>NaN</td>\n",
       "      <td>31.000000</td>\n",
       "      <td>NaN</td>\n",
       "      <td>63.000000</td>\n",
       "      <td>871.000000</td>\n",
       "      <td>275.000000</td>\n",
       "      <td>NaN</td>\n",
       "      <td>NaN</td>\n",
       "    </tr>\n",
       "  </tbody>\n",
       "</table>\n",
       "</div>"
      ],
      "text/plain": [
       "                 age          job  marital  education default        balance  \\\n",
       "count   45194.000000        45194    45194      45194   45194   45194.000000   \n",
       "unique           NaN           12        3          4       2            NaN   \n",
       "top              NaN  blue-collar  married  secondary      no            NaN   \n",
       "freq             NaN         9727    27202      23192   44379            NaN   \n",
       "mean       40.934881          NaN      NaN        NaN     NaN    1362.677855   \n",
       "std        10.618777          NaN      NaN        NaN     NaN    3045.253737   \n",
       "min        18.000000          NaN      NaN        NaN     NaN   -8019.000000   \n",
       "25%        33.000000          NaN      NaN        NaN     NaN      72.000000   \n",
       "50%        39.000000          NaN      NaN        NaN     NaN     449.000000   \n",
       "75%        48.000000          NaN      NaN        NaN     NaN    1428.000000   \n",
       "max        95.000000          NaN      NaN        NaN     NaN  102127.000000   \n",
       "\n",
       "       housing   loan   contact           day  month      campaign  \\\n",
       "count    45194  45194     45194  45194.000000  45194  45194.000000   \n",
       "unique       2      2         3           NaN     12           NaN   \n",
       "top        yes     no  cellular           NaN    may           NaN   \n",
       "freq     25115  37953     29285           NaN  13749           NaN   \n",
       "mean       NaN    NaN       NaN     15.810484    NaN      2.764305   \n",
       "std        NaN    NaN       NaN      8.321401    NaN      3.098496   \n",
       "min        NaN    NaN       NaN      1.000000    NaN      1.000000   \n",
       "25%        NaN    NaN       NaN      8.000000    NaN      1.000000   \n",
       "50%        NaN    NaN       NaN     16.000000    NaN      2.000000   \n",
       "75%        NaN    NaN       NaN     21.000000    NaN      3.000000   \n",
       "max        NaN    NaN       NaN     31.000000    NaN     63.000000   \n",
       "\n",
       "               pdays      previous poutcome      y  \n",
       "count   45194.000000  45194.000000    45194  45194  \n",
       "unique           NaN           NaN        4      2  \n",
       "top              NaN           NaN  unknown     no  \n",
       "freq             NaN           NaN    36942  39906  \n",
       "mean       40.213325      0.580542      NaN    NaN  \n",
       "std       100.144388      2.303847      NaN    NaN  \n",
       "min        -1.000000      0.000000      NaN    NaN  \n",
       "25%        -1.000000      0.000000      NaN    NaN  \n",
       "50%        -1.000000      0.000000      NaN    NaN  \n",
       "75%        -1.000000      0.000000      NaN    NaN  \n",
       "max       871.000000    275.000000      NaN    NaN  "
      ]
     },
     "execution_count": 23,
     "metadata": {},
     "output_type": "execute_result"
    }
   ],
   "source": [
    "# Check for Outliers\n",
    "bank_df.describe(include='all')"
   ]
  },
  {
   "cell_type": "code",
   "execution_count": 35,
   "id": "7c3d596e-aead-45fe-b36e-edd023279b79",
   "metadata": {},
   "outputs": [
    {
     "data": {
      "text/html": [
       "<div>\n",
       "<style scoped>\n",
       "    .dataframe tbody tr th:only-of-type {\n",
       "        vertical-align: middle;\n",
       "    }\n",
       "\n",
       "    .dataframe tbody tr th {\n",
       "        vertical-align: top;\n",
       "    }\n",
       "\n",
       "    .dataframe thead th {\n",
       "        text-align: right;\n",
       "    }\n",
       "</style>\n",
       "<table border=\"1\" class=\"dataframe\">\n",
       "  <thead>\n",
       "    <tr style=\"text-align: right;\">\n",
       "      <th></th>\n",
       "      <th>age</th>\n",
       "      <th>balance</th>\n",
       "      <th>day</th>\n",
       "      <th>campaign</th>\n",
       "      <th>pdays</th>\n",
       "      <th>previous</th>\n",
       "    </tr>\n",
       "  </thead>\n",
       "  <tbody>\n",
       "    <tr>\n",
       "      <th>count</th>\n",
       "      <td>45173.000000</td>\n",
       "      <td>45173.000000</td>\n",
       "      <td>45173.000000</td>\n",
       "      <td>45173.000000</td>\n",
       "      <td>45173.000000</td>\n",
       "      <td>45173.000000</td>\n",
       "    </tr>\n",
       "    <tr>\n",
       "      <th>mean</th>\n",
       "      <td>40.928630</td>\n",
       "      <td>1334.066766</td>\n",
       "      <td>15.812742</td>\n",
       "      <td>2.763841</td>\n",
       "      <td>40.219224</td>\n",
       "      <td>0.580679</td>\n",
       "    </tr>\n",
       "    <tr>\n",
       "      <th>std</th>\n",
       "      <td>10.613693</td>\n",
       "      <td>2720.641367</td>\n",
       "      <td>8.321145</td>\n",
       "      <td>3.095990</td>\n",
       "      <td>100.153295</td>\n",
       "      <td>2.304314</td>\n",
       "    </tr>\n",
       "    <tr>\n",
       "      <th>min</th>\n",
       "      <td>18.000000</td>\n",
       "      <td>-8019.000000</td>\n",
       "      <td>1.000000</td>\n",
       "      <td>1.000000</td>\n",
       "      <td>-1.000000</td>\n",
       "      <td>0.000000</td>\n",
       "    </tr>\n",
       "    <tr>\n",
       "      <th>25%</th>\n",
       "      <td>33.000000</td>\n",
       "      <td>72.000000</td>\n",
       "      <td>8.000000</td>\n",
       "      <td>1.000000</td>\n",
       "      <td>-1.000000</td>\n",
       "      <td>0.000000</td>\n",
       "    </tr>\n",
       "    <tr>\n",
       "      <th>50%</th>\n",
       "      <td>39.000000</td>\n",
       "      <td>448.000000</td>\n",
       "      <td>16.000000</td>\n",
       "      <td>2.000000</td>\n",
       "      <td>-1.000000</td>\n",
       "      <td>0.000000</td>\n",
       "    </tr>\n",
       "    <tr>\n",
       "      <th>75%</th>\n",
       "      <td>48.000000</td>\n",
       "      <td>1425.000000</td>\n",
       "      <td>21.000000</td>\n",
       "      <td>3.000000</td>\n",
       "      <td>-1.000000</td>\n",
       "      <td>0.000000</td>\n",
       "    </tr>\n",
       "    <tr>\n",
       "      <th>max</th>\n",
       "      <td>95.000000</td>\n",
       "      <td>44134.000000</td>\n",
       "      <td>31.000000</td>\n",
       "      <td>63.000000</td>\n",
       "      <td>871.000000</td>\n",
       "      <td>275.000000</td>\n",
       "    </tr>\n",
       "  </tbody>\n",
       "</table>\n",
       "</div>"
      ],
      "text/plain": [
       "                age       balance           day      campaign         pdays  \\\n",
       "count  45173.000000  45173.000000  45173.000000  45173.000000  45173.000000   \n",
       "mean      40.928630   1334.066766     15.812742      2.763841     40.219224   \n",
       "std       10.613693   2720.641367      8.321145      3.095990    100.153295   \n",
       "min       18.000000  -8019.000000      1.000000      1.000000     -1.000000   \n",
       "25%       33.000000     72.000000      8.000000      1.000000     -1.000000   \n",
       "50%       39.000000    448.000000     16.000000      2.000000     -1.000000   \n",
       "75%       48.000000   1425.000000     21.000000      3.000000     -1.000000   \n",
       "max       95.000000  44134.000000     31.000000     63.000000    871.000000   \n",
       "\n",
       "           previous  \n",
       "count  45173.000000  \n",
       "mean       0.580679  \n",
       "std        2.304314  \n",
       "min        0.000000  \n",
       "25%        0.000000  \n",
       "50%        0.000000  \n",
       "75%        0.000000  \n",
       "max      275.000000  "
      ]
     },
     "execution_count": 35,
     "metadata": {},
     "output_type": "execute_result"
    }
   ],
   "source": [
    "# Exclude Outliers (using IQR) \n",
    "numeric_columns = ['balance'] # For columns that needs removal of outliers \n",
    "\n",
    "bank_df_cleaned = bank_df \n",
    "\n",
    "for col in numeric_columns:\n",
    "    Q1 = bank_df_cleaned[col].quantile(0.25)\n",
    "    Q3 = bank_df_cleaned[col].quantile(0.75)\n",
    "    IQR = Q3 - Q1 \n",
    "\n",
    "    lower_bound = Q1 - (IQR * 1.5)\n",
    "    upper_bound = Q3 + (IQR * 1.5)\n",
    "\n",
    "    bank_df_cleaned = bank_df_cleaned[(bank_df_cleaned[col] >= lower_bound) & (bank_df_cleaned[col] <= upper_bound)]\n",
    "    \n",
    "bank_df_cleaned.describe()"
   ]
  },
  {
   "cell_type": "code",
   "execution_count": 36,
   "id": "3e0577b2-4ca3-47d1-9612-0101618296f4",
   "metadata": {},
   "outputs": [
    {
     "data": {
      "image/png": "[encoded data removed]",
      "text/plain": [
       "<Figure size 1000x400 with 1 Axes>"
      ]
     },
     "metadata": {},
     "output_type": "display_data"
    },
    {
     "data": {
      "image/png": "[encoded data removed]",
      "text/plain": [
       "<Figure size 1000x400 with 1 Axes>"
      ]
     },
     "metadata": {},
     "output_type": "display_data"
    }
   ],
   "source": [
    "# Visualize that Outliers have been removed \n",
    "\n",
    "# Original Dataset \n",
    "plt.figure(figsize=(10,4))\n",
    "plt.scatter(x=bank_df['age'], y=bank_df['balance'])\n",
    "plt.show()\n",
    "\n",
    "# Outlier Removed \n",
    "plt.figure(figsize=(10,4))\n",
    "plt.scatter(x=bank_df_cleaned['age'], y=bank_df_cleaned['balance'])\n",
    "plt.show()\n"
   ]
  },
  {
   "cell_type": "code",
   "execution_count": 42,
   "id": "1ed0de9c-5c3e-4ebf-8f92-68e725bc2c5c",
   "metadata": {},
   "outputs": [],
   "source": [
    "# Pdays = -1 Means there was no communication in the past --> Change to NaN \n",
    "bank_df['pdays'] = bank_df['pdays'].replace(-1, np.nan)"
   ]
  },
  {
   "cell_type": "markdown",
   "id": "013271a7-9bda-44ab-b32d-d4ed31742544",
   "metadata": {},
   "source": [
    "### 2.3 Duplicates"
   ]
  },
  {
   "cell_type": "code",
   "execution_count": 43,
   "id": "f32599af-6eda-4e7c-8f8c-242ecc8ad02c",
   "metadata": {},
   "outputs": [
    {
     "data": {
      "text/plain": [
       "16"
      ]
     },
     "execution_count": 43,
     "metadata": {},
     "output_type": "execute_result"
    }
   ],
   "source": [
    "bank_df.duplicated().sum() # If > 0, means there's dupliacted data "
   ]
  },
  {
   "cell_type": "code",
   "execution_count": 45,
   "id": "9d7723e3-cec0-4f74-850f-7e705e366a0f",
   "metadata": {},
   "outputs": [
    {
     "data": {
      "text/plain": [
       "0"
      ]
     },
     "execution_count": 45,
     "metadata": {},
     "output_type": "execute_result"
    }
   ],
   "source": [
    "# Look at the duplicates\n",
    "bank_df[bank_df.duplicated(keep=False)].sort_values(by='age') \n",
    "\n",
    "# Drop Duplicates, Keep only 1\n",
    "bank_df = bank_df.drop_duplicates() \n",
    "\n",
    "# check if the duplicates have been removed successfully\n",
    "bank_df.duplicated().sum() # Should be 0 now  "
   ]
  },
  {
   "cell_type": "markdown",
   "id": "e159d265-158c-4f34-bc82-e24cdaaccb9e",
   "metadata": {},
   "source": [
    "## 3. EDA"
   ]
  },
  {
   "cell_type": "markdown",
   "id": "a7ff7c88-cc03-4a44-8aee-a8576aa7e62e",
   "metadata": {},
   "source": [
    "Understanding the overall data and predicting which are most likely the most impactful features"
   ]
  },
  {
   "cell_type": "markdown",
   "id": "5f9a30ae-e4e4-48e1-afe3-c57a83b474d4",
   "metadata": {},
   "source": [
    "### 3.1 Numeric Variables"
   ]
  },
  {
   "cell_type": "code",
   "execution_count": 47,
   "id": "e31d51e8-4f90-470a-9cbb-94d293318fe2",
   "metadata": {},
   "outputs": [
    {
     "data": {
      "text/plain": [
       "Index(['age', 'balance', 'day', 'campaign', 'pdays', 'previous'], dtype='object')"
      ]
     },
     "execution_count": 47,
     "metadata": {},
     "output_type": "execute_result"
    }
   ],
   "source": [
    "numeric_features = bank_df.select_dtypes('number').columns\n",
    "numeric_features"
   ]
  },
  {
   "cell_type": "code",
   "execution_count": 48,
   "id": "50aeae1f-d478-4ebf-a5c2-0b4d92bb6b94",
   "metadata": {},
   "outputs": [
    {
     "data": {
      "text/html": [
       "<div>\n",
       "<style scoped>\n",
       "    .dataframe tbody tr th:only-of-type {\n",
       "        vertical-align: middle;\n",
       "    }\n",
       "\n",
       "    .dataframe tbody tr th {\n",
       "        vertical-align: top;\n",
       "    }\n",
       "\n",
       "    .dataframe thead th {\n",
       "        text-align: right;\n",
       "    }\n",
       "</style>\n",
       "<table border=\"1\" class=\"dataframe\">\n",
       "  <thead>\n",
       "    <tr style=\"text-align: right;\">\n",
       "      <th></th>\n",
       "      <th>age</th>\n",
       "      <th>balance</th>\n",
       "      <th>day</th>\n",
       "      <th>campaign</th>\n",
       "      <th>pdays</th>\n",
       "      <th>previous</th>\n",
       "    </tr>\n",
       "    <tr>\n",
       "      <th>y</th>\n",
       "      <th></th>\n",
       "      <th></th>\n",
       "      <th></th>\n",
       "      <th></th>\n",
       "      <th></th>\n",
       "      <th></th>\n",
       "    </tr>\n",
       "  </thead>\n",
       "  <tbody>\n",
       "    <tr>\n",
       "      <th>no</th>\n",
       "      <td>40.839358</td>\n",
       "      <td>1304.641138</td>\n",
       "      <td>15.894886</td>\n",
       "      <td>2.847054</td>\n",
       "      <td>234.191436</td>\n",
       "      <td>0.502557</td>\n",
       "    </tr>\n",
       "    <tr>\n",
       "      <th>yes</th>\n",
       "      <td>41.667360</td>\n",
       "      <td>1804.600605</td>\n",
       "      <td>15.160174</td>\n",
       "      <td>2.141263</td>\n",
       "      <td>192.521785</td>\n",
       "      <td>1.170575</td>\n",
       "    </tr>\n",
       "  </tbody>\n",
       "</table>\n",
       "</div>"
      ],
      "text/plain": [
       "           age      balance        day  campaign       pdays  previous\n",
       "y                                                                     \n",
       "no   40.839358  1304.641138  15.894886  2.847054  234.191436  0.502557\n",
       "yes  41.667360  1804.600605  15.160174  2.141263  192.521785  1.170575"
      ]
     },
     "execution_count": 48,
     "metadata": {},
     "output_type": "execute_result"
    }
   ],
   "source": [
    "bank_df.groupby('y')[numeric_features].mean()"
   ]
  },
  {
   "cell_type": "markdown",
   "id": "b18d7dec-0a98-4d31-becd-42d8a5f68403",
   "metadata": {},
   "source": [
    "Subscribed customers have higher balalnce, and was contacted recently"
   ]
  },
  {
   "cell_type": "markdown",
   "id": "6b6d53a3-e457-4db5-9f83-6a65b5bc3fae",
   "metadata": {},
   "source": [
    "### 3.2 Categorical Variables"
   ]
  },
  {
   "cell_type": "code",
   "execution_count": 8,
   "id": "df9831b6-af9a-4600-a8cf-9e5b07b558cd",
   "metadata": {},
   "outputs": [
    {
     "data": {
      "text/plain": [
       "Index(['job', 'marital', 'education', 'default', 'housing', 'loan', 'contact',\n",
       "       'month', 'poutcome', 'y'],\n",
       "      dtype='object')"
      ]
     },
     "execution_count": 8,
     "metadata": {},
     "output_type": "execute_result"
    }
   ],
   "source": [
    "categorical_features = bank_df.select_dtypes('object').columns\n",
    "categorical_features"
   ]
  },
  {
   "cell_type": "markdown",
   "id": "377a2c58-862f-42d6-bf45-f407ee22bc19",
   "metadata": {},
   "source": [
    "##### Job"
   ]
  },
  {
   "cell_type": "code",
   "execution_count": 50,
   "id": "7eda86b0-8d7a-404c-8b24-ee4e2403e849",
   "metadata": {},
   "outputs": [
    {
     "data": {
      "text/html": [
       "<div>\n",
       "<style scoped>\n",
       "    .dataframe tbody tr th:only-of-type {\n",
       "        vertical-align: middle;\n",
       "    }\n",
       "\n",
       "    .dataframe tbody tr th {\n",
       "        vertical-align: top;\n",
       "    }\n",
       "\n",
       "    .dataframe thead th {\n",
       "        text-align: right;\n",
       "    }\n",
       "</style>\n",
       "<table border=\"1\" class=\"dataframe\">\n",
       "  <thead>\n",
       "    <tr style=\"text-align: right;\">\n",
       "      <th></th>\n",
       "      <th>y</th>\n",
       "      <th>job</th>\n",
       "      <th>count</th>\n",
       "      <th>pct</th>\n",
       "    </tr>\n",
       "  </thead>\n",
       "  <tbody>\n",
       "    <tr>\n",
       "      <th>0</th>\n",
       "      <td>no</td>\n",
       "      <td>admin.</td>\n",
       "      <td>4538</td>\n",
       "      <td>0.113763</td>\n",
       "    </tr>\n",
       "    <tr>\n",
       "      <th>1</th>\n",
       "      <td>no</td>\n",
       "      <td>blue-collar</td>\n",
       "      <td>9017</td>\n",
       "      <td>0.226047</td>\n",
       "    </tr>\n",
       "    <tr>\n",
       "      <th>2</th>\n",
       "      <td>no</td>\n",
       "      <td>entrepreneur</td>\n",
       "      <td>1363</td>\n",
       "      <td>0.034169</td>\n",
       "    </tr>\n",
       "    <tr>\n",
       "      <th>3</th>\n",
       "      <td>no</td>\n",
       "      <td>housemaid</td>\n",
       "      <td>1131</td>\n",
       "      <td>0.028353</td>\n",
       "    </tr>\n",
       "    <tr>\n",
       "      <th>4</th>\n",
       "      <td>no</td>\n",
       "      <td>management</td>\n",
       "      <td>8148</td>\n",
       "      <td>0.204262</td>\n",
       "    </tr>\n",
       "  </tbody>\n",
       "</table>\n",
       "</div>"
      ],
      "text/plain": [
       "    y           job  count       pct\n",
       "0  no        admin.   4538  0.113763\n",
       "1  no   blue-collar   9017  0.226047\n",
       "2  no  entrepreneur   1363  0.034169\n",
       "3  no     housemaid   1131  0.028353\n",
       "4  no    management   8148  0.204262"
      ]
     },
     "execution_count": 50,
     "metadata": {},
     "output_type": "execute_result"
    }
   ],
   "source": [
    "# Get customer count / Pct per job and subscription Y/N\n",
    "count_df = bank_df.groupby(['y', 'job']).size().reset_index(name='count') \n",
    "count_df.sort_values(by='count', ascending=False).head()\n",
    "count_df['pct'] = count_df.groupby('y')['count'].transform(lambda x: x / x.sum()) \n",
    "count_df.head()"
   ]
  },
  {
   "cell_type": "code",
   "execution_count": 52,
   "id": "2845b519-1724-4c8e-8202-8017bda58392",
   "metadata": {},
   "outputs": [
    {
     "data": {
      "image/png": "[encoded data removed]",
      "text/plain": [
       "<Figure size 1400x400 with 1 Axes>"
      ]
     },
     "metadata": {},
     "output_type": "display_data"
    }
   ],
   "source": [
    "# Visualization \n",
    "fig, ax = plt.subplots(figsize=(14, 4))\n",
    "sns.barplot(data=count_df, x=\"job\", y=\"pct\", hue=\"y\", hue_order=['yes', 'no'], palette=\"Blues_r\", ax=ax)\n",
    "\n",
    "for c in ax.containers:\n",
    "    ax.bar_label(c, fmt='{:.1%}');  # fmt = format. 소수점 한자리까지의 % 형태로 값을 나타내겠다는 의미입니다."
   ]
  },
  {
   "cell_type": "markdown",
   "id": "f0faa11d-4272-4363-b448-e534bb3da472",
   "metadata": {},
   "source": [
    "Among subscribers, individuals in management, retired, and student occupations are represented at relatively higher rates.\n",
    "Management-level customers account for the largest share of subscribers overall."
   ]
  },
  {
   "cell_type": "markdown",
   "id": "9dffc2e1-6551-415c-9e65-bf0cf84e88f3",
   "metadata": {},
   "source": [
    "##### Marital Status"
   ]
  },
  {
   "cell_type": "code",
   "execution_count": 17,
   "id": "779389ac-31e6-48c2-92d8-294309abfd2e",
   "metadata": {},
   "outputs": [
    {
     "data": {
      "image/png": "[encoded data removed]",
      "text/plain": [
       "<Figure size 800x500 with 1 Axes>"
      ]
     },
     "metadata": {},
     "output_type": "display_data"
    }
   ],
   "source": [
    "count_df = bank_df.groupby(['y', 'marital']).size().reset_index(name='count')\n",
    "count_df['percentage'] = count_df.groupby('y')['count'].transform(lambda x: x / x.sum())\n",
    "\n",
    "fig, ax = plt.subplots(figsize=(8, 5))\n",
    "sns.barplot(data=count_df, x=\"marital\", y=\"percentage\", hue=\"y\", hue_order=['yes', 'no'], palette=\"Blues_r\", ax=ax)\n",
    "\n",
    "for c in ax.containers:\n",
    "    ax.bar_label(c, fmt='{:.1%}');"
   ]
  },
  {
   "cell_type": "markdown",
   "id": "60caf579-dcc3-413b-b46f-5522ca0acb64",
   "metadata": {},
   "source": [
    "The subscriber group shows a relatively higher proportion of single individuals."
   ]
  },
  {
   "cell_type": "markdown",
   "id": "d6091de2-5bef-4277-accf-36cd41fba8bd",
   "metadata": {},
   "source": [
    "## 4. Modeling  "
   ]
  },
  {
   "cell_type": "markdown",
   "id": "311fdad2-f4bd-499a-b468-a2076deaa322",
   "metadata": {},
   "source": [
    "### 4.1 Data Preparation"
   ]
  },
  {
   "cell_type": "markdown",
   "id": "491e9c15-1420-4dc2-b8dc-350b2ad67ef3",
   "metadata": {},
   "source": [
    "The pdays column represents the number of days that have passed since the last contact. However, it includes a value of -1, which indicates that the customer has never been contacted before. Because it can't be interpreted in a continuous numerical value, must be changed to categorical variable.\n",
    "\n"
   ]
  },
  {
   "cell_type": "code",
   "execution_count": 89,
   "id": "6495e93f-3e53-4451-b6eb-160df98e974d",
   "metadata": {},
   "outputs": [
    {
     "data": {
      "text/plain": [
       "pdays_category       \n",
       "Not Contacted            36921\n",
       "<200 Days                 2879\n",
       "Greater than 300 Days     2497\n",
       "<300 Days                 1474\n",
       "<100 Days                 1407\n",
       "Name: count, dtype: int64"
      ]
     },
     "execution_count": 89,
     "metadata": {},
     "output_type": "execute_result"
    }
   ],
   "source": [
    "def pdays_category(pdays):  \n",
    "    if pd.isna(pdays):\n",
    "        return 'Not Contacted'\n",
    "    elif pdays < 100:\n",
    "        return '<100 Days'\n",
    "    elif pdays < 200:\n",
    "        return '<200 Days'\n",
    "    elif pdays <300:\n",
    "        return '<300 Days'\n",
    "    else:\n",
    "        return 'Greater than 300 Days' \n",
    "\n",
    "bank_df['pdays_category'] = bank_df['pdays'].apply(pdays_category)\n",
    "bank_df[['pdays_category']].value_counts()\n",
    "# bank_df.groupby('pdays_category')['pdays'].unique()"
   ]
  },
  {
   "cell_type": "code",
   "execution_count": 90,
   "id": "7d6fb13e-4396-4a5e-9df3-21062df0d843",
   "metadata": {},
   "outputs": [
    {
     "data": {
      "text/plain": [
       "y\n",
       "0    39890\n",
       "1     5288\n",
       "Name: count, dtype: int64"
      ]
     },
     "execution_count": 90,
     "metadata": {},
     "output_type": "execute_result"
    }
   ],
   "source": [
    "# Target Variable Assignemnt\n",
    "y = bank_df['y']\n",
    "y = y.apply(lambda x: 1 if x == 'yes' else 0)\n",
    "y.value_counts()"
   ]
  },
  {
   "cell_type": "code",
   "execution_count": 91,
   "id": "e8ce3eb5-d055-47f7-b0e5-6b879df88ce5",
   "metadata": {},
   "outputs": [
    {
     "data": {
      "text/html": [
       "<div>\n",
       "<style scoped>\n",
       "    .dataframe tbody tr th:only-of-type {\n",
       "        vertical-align: middle;\n",
       "    }\n",
       "\n",
       "    .dataframe tbody tr th {\n",
       "        vertical-align: top;\n",
       "    }\n",
       "\n",
       "    .dataframe thead th {\n",
       "        text-align: right;\n",
       "    }\n",
       "</style>\n",
       "<table border=\"1\" class=\"dataframe\">\n",
       "  <thead>\n",
       "    <tr style=\"text-align: right;\">\n",
       "      <th></th>\n",
       "      <th>age</th>\n",
       "      <th>job</th>\n",
       "      <th>marital</th>\n",
       "      <th>education</th>\n",
       "      <th>default</th>\n",
       "      <th>balance</th>\n",
       "      <th>housing</th>\n",
       "      <th>loan</th>\n",
       "      <th>contact</th>\n",
       "      <th>day</th>\n",
       "      <th>month</th>\n",
       "      <th>campaign</th>\n",
       "      <th>previous</th>\n",
       "      <th>poutcome</th>\n",
       "      <th>pdays_category</th>\n",
       "    </tr>\n",
       "  </thead>\n",
       "  <tbody>\n",
       "    <tr>\n",
       "      <th>0</th>\n",
       "      <td>58</td>\n",
       "      <td>management</td>\n",
       "      <td>married</td>\n",
       "      <td>tertiary</td>\n",
       "      <td>no</td>\n",
       "      <td>2143.0</td>\n",
       "      <td>yes</td>\n",
       "      <td>no</td>\n",
       "      <td>unknown</td>\n",
       "      <td>5.0</td>\n",
       "      <td>may</td>\n",
       "      <td>1.0</td>\n",
       "      <td>0</td>\n",
       "      <td>unknown</td>\n",
       "      <td>Not Contacted</td>\n",
       "    </tr>\n",
       "    <tr>\n",
       "      <th>1</th>\n",
       "      <td>44</td>\n",
       "      <td>technician</td>\n",
       "      <td>single</td>\n",
       "      <td>secondary</td>\n",
       "      <td>no</td>\n",
       "      <td>29.0</td>\n",
       "      <td>yes</td>\n",
       "      <td>no</td>\n",
       "      <td>unknown</td>\n",
       "      <td>5.0</td>\n",
       "      <td>may</td>\n",
       "      <td>1.0</td>\n",
       "      <td>0</td>\n",
       "      <td>unknown</td>\n",
       "      <td>Not Contacted</td>\n",
       "    </tr>\n",
       "    <tr>\n",
       "      <th>2</th>\n",
       "      <td>33</td>\n",
       "      <td>entrepreneur</td>\n",
       "      <td>married</td>\n",
       "      <td>secondary</td>\n",
       "      <td>no</td>\n",
       "      <td>2.0</td>\n",
       "      <td>yes</td>\n",
       "      <td>yes</td>\n",
       "      <td>unknown</td>\n",
       "      <td>5.0</td>\n",
       "      <td>may</td>\n",
       "      <td>1.0</td>\n",
       "      <td>0</td>\n",
       "      <td>unknown</td>\n",
       "      <td>Not Contacted</td>\n",
       "    </tr>\n",
       "    <tr>\n",
       "      <th>3</th>\n",
       "      <td>47</td>\n",
       "      <td>blue-collar</td>\n",
       "      <td>married</td>\n",
       "      <td>unknown</td>\n",
       "      <td>no</td>\n",
       "      <td>1506.0</td>\n",
       "      <td>yes</td>\n",
       "      <td>no</td>\n",
       "      <td>unknown</td>\n",
       "      <td>5.0</td>\n",
       "      <td>may</td>\n",
       "      <td>1.0</td>\n",
       "      <td>0</td>\n",
       "      <td>unknown</td>\n",
       "      <td>Not Contacted</td>\n",
       "    </tr>\n",
       "    <tr>\n",
       "      <th>4</th>\n",
       "      <td>33</td>\n",
       "      <td>unknown</td>\n",
       "      <td>single</td>\n",
       "      <td>unknown</td>\n",
       "      <td>no</td>\n",
       "      <td>1.0</td>\n",
       "      <td>no</td>\n",
       "      <td>no</td>\n",
       "      <td>unknown</td>\n",
       "      <td>5.0</td>\n",
       "      <td>may</td>\n",
       "      <td>1.0</td>\n",
       "      <td>0</td>\n",
       "      <td>unknown</td>\n",
       "      <td>Not Contacted</td>\n",
       "    </tr>\n",
       "  </tbody>\n",
       "</table>\n",
       "</div>"
      ],
      "text/plain": [
       "   age           job  marital  education default  balance housing loan  \\\n",
       "0   58    management  married   tertiary      no   2143.0     yes   no   \n",
       "1   44    technician   single  secondary      no     29.0     yes   no   \n",
       "2   33  entrepreneur  married  secondary      no      2.0     yes  yes   \n",
       "3   47   blue-collar  married    unknown      no   1506.0     yes   no   \n",
       "4   33       unknown   single    unknown      no      1.0      no   no   \n",
       "\n",
       "   contact  day month  campaign  previous poutcome pdays_category  \n",
       "0  unknown  5.0   may       1.0         0  unknown  Not Contacted  \n",
       "1  unknown  5.0   may       1.0         0  unknown  Not Contacted  \n",
       "2  unknown  5.0   may       1.0         0  unknown  Not Contacted  \n",
       "3  unknown  5.0   may       1.0         0  unknown  Not Contacted  \n",
       "4  unknown  5.0   may       1.0         0  unknown  Not Contacted  "
      ]
     },
     "execution_count": 91,
     "metadata": {},
     "output_type": "execute_result"
    }
   ],
   "source": [
    "# Feature Variables Assignment\n",
    "X = bank_df.drop(['y','pdays'], axis=1)  #using pdays_category instead of pdays\n",
    "X.head() "
   ]
  },
  {
   "cell_type": "code",
   "execution_count": 92,
   "id": "5af78129-b5b1-4331-9ef8-26e55b24be50",
   "metadata": {},
   "outputs": [
    {
     "name": "stdout",
     "output_type": "stream",
     "text": [
      "Index(['job', 'marital', 'education', 'default', 'housing', 'loan', 'contact',\n",
      "       'month', 'poutcome', 'pdays_category'],\n",
      "      dtype='object')\n"
     ]
    },
    {
     "data": {
      "text/html": [
       "<div>\n",
       "<style scoped>\n",
       "    .dataframe tbody tr th:only-of-type {\n",
       "        vertical-align: middle;\n",
       "    }\n",
       "\n",
       "    .dataframe tbody tr th {\n",
       "        vertical-align: top;\n",
       "    }\n",
       "\n",
       "    .dataframe thead th {\n",
       "        text-align: right;\n",
       "    }\n",
       "</style>\n",
       "<table border=\"1\" class=\"dataframe\">\n",
       "  <thead>\n",
       "    <tr style=\"text-align: right;\">\n",
       "      <th></th>\n",
       "      <th>age</th>\n",
       "      <th>balance</th>\n",
       "      <th>day</th>\n",
       "      <th>campaign</th>\n",
       "      <th>previous</th>\n",
       "      <th>job_admin.</th>\n",
       "      <th>job_blue-collar</th>\n",
       "      <th>job_entrepreneur</th>\n",
       "      <th>job_housemaid</th>\n",
       "      <th>job_management</th>\n",
       "      <th>...</th>\n",
       "      <th>month_sep</th>\n",
       "      <th>poutcome_failure</th>\n",
       "      <th>poutcome_other</th>\n",
       "      <th>poutcome_success</th>\n",
       "      <th>poutcome_unknown</th>\n",
       "      <th>pdays_category_&lt;100 Days</th>\n",
       "      <th>pdays_category_&lt;200 Days</th>\n",
       "      <th>pdays_category_&lt;300 Days</th>\n",
       "      <th>pdays_category_Greater than 300 Days</th>\n",
       "      <th>pdays_category_Not Contacted</th>\n",
       "    </tr>\n",
       "  </thead>\n",
       "  <tbody>\n",
       "    <tr>\n",
       "      <th>0</th>\n",
       "      <td>58</td>\n",
       "      <td>2143.0</td>\n",
       "      <td>5.0</td>\n",
       "      <td>1.0</td>\n",
       "      <td>0</td>\n",
       "      <td>0</td>\n",
       "      <td>0</td>\n",
       "      <td>0</td>\n",
       "      <td>0</td>\n",
       "      <td>1</td>\n",
       "      <td>...</td>\n",
       "      <td>0</td>\n",
       "      <td>0</td>\n",
       "      <td>0</td>\n",
       "      <td>0</td>\n",
       "      <td>1</td>\n",
       "      <td>0</td>\n",
       "      <td>0</td>\n",
       "      <td>0</td>\n",
       "      <td>0</td>\n",
       "      <td>1</td>\n",
       "    </tr>\n",
       "    <tr>\n",
       "      <th>1</th>\n",
       "      <td>44</td>\n",
       "      <td>29.0</td>\n",
       "      <td>5.0</td>\n",
       "      <td>1.0</td>\n",
       "      <td>0</td>\n",
       "      <td>0</td>\n",
       "      <td>0</td>\n",
       "      <td>0</td>\n",
       "      <td>0</td>\n",
       "      <td>0</td>\n",
       "      <td>...</td>\n",
       "      <td>0</td>\n",
       "      <td>0</td>\n",
       "      <td>0</td>\n",
       "      <td>0</td>\n",
       "      <td>1</td>\n",
       "      <td>0</td>\n",
       "      <td>0</td>\n",
       "      <td>0</td>\n",
       "      <td>0</td>\n",
       "      <td>1</td>\n",
       "    </tr>\n",
       "    <tr>\n",
       "      <th>2</th>\n",
       "      <td>33</td>\n",
       "      <td>2.0</td>\n",
       "      <td>5.0</td>\n",
       "      <td>1.0</td>\n",
       "      <td>0</td>\n",
       "      <td>0</td>\n",
       "      <td>0</td>\n",
       "      <td>1</td>\n",
       "      <td>0</td>\n",
       "      <td>0</td>\n",
       "      <td>...</td>\n",
       "      <td>0</td>\n",
       "      <td>0</td>\n",
       "      <td>0</td>\n",
       "      <td>0</td>\n",
       "      <td>1</td>\n",
       "      <td>0</td>\n",
       "      <td>0</td>\n",
       "      <td>0</td>\n",
       "      <td>0</td>\n",
       "      <td>1</td>\n",
       "    </tr>\n",
       "    <tr>\n",
       "      <th>3</th>\n",
       "      <td>47</td>\n",
       "      <td>1506.0</td>\n",
       "      <td>5.0</td>\n",
       "      <td>1.0</td>\n",
       "      <td>0</td>\n",
       "      <td>0</td>\n",
       "      <td>1</td>\n",
       "      <td>0</td>\n",
       "      <td>0</td>\n",
       "      <td>0</td>\n",
       "      <td>...</td>\n",
       "      <td>0</td>\n",
       "      <td>0</td>\n",
       "      <td>0</td>\n",
       "      <td>0</td>\n",
       "      <td>1</td>\n",
       "      <td>0</td>\n",
       "      <td>0</td>\n",
       "      <td>0</td>\n",
       "      <td>0</td>\n",
       "      <td>1</td>\n",
       "    </tr>\n",
       "    <tr>\n",
       "      <th>4</th>\n",
       "      <td>33</td>\n",
       "      <td>1.0</td>\n",
       "      <td>5.0</td>\n",
       "      <td>1.0</td>\n",
       "      <td>0</td>\n",
       "      <td>0</td>\n",
       "      <td>0</td>\n",
       "      <td>0</td>\n",
       "      <td>0</td>\n",
       "      <td>0</td>\n",
       "      <td>...</td>\n",
       "      <td>0</td>\n",
       "      <td>0</td>\n",
       "      <td>0</td>\n",
       "      <td>0</td>\n",
       "      <td>1</td>\n",
       "      <td>0</td>\n",
       "      <td>0</td>\n",
       "      <td>0</td>\n",
       "      <td>0</td>\n",
       "      <td>1</td>\n",
       "    </tr>\n",
       "  </tbody>\n",
       "</table>\n",
       "<p>5 rows × 54 columns</p>\n",
       "</div>"
      ],
      "text/plain": [
       "   age  balance  day  campaign  previous  job_admin.  job_blue-collar  \\\n",
       "0   58   2143.0  5.0       1.0         0           0                0   \n",
       "1   44     29.0  5.0       1.0         0           0                0   \n",
       "2   33      2.0  5.0       1.0         0           0                0   \n",
       "3   47   1506.0  5.0       1.0         0           0                1   \n",
       "4   33      1.0  5.0       1.0         0           0                0   \n",
       "\n",
       "   job_entrepreneur  job_housemaid  job_management  ...  month_sep  \\\n",
       "0                 0              0               1  ...          0   \n",
       "1                 0              0               0  ...          0   \n",
       "2                 1              0               0  ...          0   \n",
       "3                 0              0               0  ...          0   \n",
       "4                 0              0               0  ...          0   \n",
       "\n",
       "   poutcome_failure  poutcome_other  poutcome_success  poutcome_unknown  \\\n",
       "0                 0               0                 0                 1   \n",
       "1                 0               0                 0                 1   \n",
       "2                 0               0                 0                 1   \n",
       "3                 0               0                 0                 1   \n",
       "4                 0               0                 0                 1   \n",
       "\n",
       "   pdays_category_<100 Days  pdays_category_<200 Days  \\\n",
       "0                         0                         0   \n",
       "1                         0                         0   \n",
       "2                         0                         0   \n",
       "3                         0                         0   \n",
       "4                         0                         0   \n",
       "\n",
       "   pdays_category_<300 Days  pdays_category_Greater than 300 Days  \\\n",
       "0                         0                                     0   \n",
       "1                         0                                     0   \n",
       "2                         0                                     0   \n",
       "3                         0                                     0   \n",
       "4                         0                                     0   \n",
       "\n",
       "   pdays_category_Not Contacted  \n",
       "0                             1  \n",
       "1                             1  \n",
       "2                             1  \n",
       "3                             1  \n",
       "4                             1  \n",
       "\n",
       "[5 rows x 54 columns]"
      ]
     },
     "execution_count": 92,
     "metadata": {},
     "output_type": "execute_result"
    }
   ],
   "source": [
    "# One Hot Encode Categorical Features \n",
    "categorical_features = X.select_dtypes(include='object').columns # List of Categorical Features Column Name\n",
    "print(categorical_features)\n",
    "\n",
    "# return original df with now One hot encoded categorical feature columns\n",
    "X = pd.get_dummies(X, columns=categorical_features, dtype='int')\n",
    "X.head()\n"
   ]
  },
  {
   "cell_type": "markdown",
   "id": "dd0d4d4d-bacf-4c03-a270-03e492047328",
   "metadata": {},
   "source": [
    "### 4.2 Initial Model"
   ]
  },
  {
   "cell_type": "code",
   "execution_count": 112,
   "id": "d2664bb9-7b06-4212-8ad2-a5ab7d4d9c47",
   "metadata": {},
   "outputs": [
    {
     "name": "stdout",
     "output_type": "stream",
     "text": [
      "(31624, 54)\n",
      "(13554, 54)\n",
      "(31624,)\n",
      "(13554,)\n"
     ]
    }
   ],
   "source": [
    "# Train/Test Data Split\n",
    "from sklearn.model_selection import train_test_split\n",
    "X_train, X_test, y_train, y_test = train_test_split(X, y, test_size = 0.3, random_state = 42)\n",
    "\n",
    "print(X_train.shape)\n",
    "print(X_test.shape)\n",
    "print(y_train.shape)\n",
    "print(y_test.shape)"
   ]
  },
  {
   "cell_type": "code",
   "execution_count": 122,
   "id": "1b46f2b1-3b19-4168-a71f-0f3b5f77d461",
   "metadata": {},
   "outputs": [],
   "source": [
    "from sklearn.ensemble import RandomForestClassifier\n",
    "model = RandomForestClassifier(n_estimators=500, max_depth=10, random_state=42)\n",
    "model.fit(X_train, y_train)\n",
    "y_pred_test = model.predict(X_test)"
   ]
  },
  {
   "cell_type": "code",
   "execution_count": 129,
   "id": "29c5fa34-6fdf-450e-af75-fe92d9127413",
   "metadata": {},
   "outputs": [
    {
     "name": "stdout",
     "output_type": "stream",
     "text": [
      "              precision    recall  f1-score   support\n",
      "\n",
      "           0       0.93      0.85      0.89     11958\n",
      "           1       0.33      0.56      0.41      1596\n",
      "\n",
      "    accuracy                           0.81     13554\n",
      "   macro avg       0.63      0.70      0.65     13554\n",
      "weighted avg       0.86      0.81      0.83     13554\n",
      "\n"
     ]
    }
   ],
   "source": [
    "from sklearn.metrics import classification_report\n",
    "print(classification_report(y_test, y_pred_test))"
   ]
  },
  {
   "cell_type": "markdown",
   "id": "f5e0a000-ef6e-477e-95b3-72a2bc86b155",
   "metadata": {},
   "source": [
    "\n",
    "- Class 0 = Not subscribed for term deposit\n",
    "- Class 1 = Subscribed for term deposit \n",
    "\n",
    "#### **Model Evaluation** \n",
    "\n",
    "**Precision**: Model is more accurate in predicting class 0 than class 1.\n",
    "\n",
    "**Recall**: There are more cases where the true label is 1 but the model predicts 0. \n",
    "\n",
    "**Because there are much more data for Class 0 (non subscribers), the model may have learned that predicting 0 is generally safer when uncertain, leading to a tendency to output 0 more frequently than 1.**\n",
    "\n",
    "**F1-score**: balance of precision and recall. 41% for Class 1 implies that the model is not good at predicting subscribiers\n",
    "\n",
    "**Accuracy**: The model achieves 81% accuracy but due to the significant class imbalance (i.e. higher class 0 samples than class 1), accuracy alone is not a sufficient measure of model performance. It’s more meaningful to consider the F1-scores for each class in this context."
   ]
  },
  {
   "cell_type": "markdown",
   "id": "983364a0-1582-45b6-830b-83d923f86f31",
   "metadata": {},
   "source": [
    "### 4.3 Hyperparamter Tuning"
   ]
  },
  {
   "cell_type": "markdown",
   "id": "a570728e-bdee-492c-9c04-d00953b75be8",
   "metadata": {},
   "source": [
    "Next is to identify better suited parameters through GridSearchCV and find a better performing model. \n",
    "\n",
    "**Precision is the most important evaluation metric here because minimizing false positives is crucial.** Falsely identifying customers as highly likely to subscribe can lead to wasted marketing budget on customers who are unlikely to respond, which reduces campaign efficiency. "
   ]
  },
  {
   "cell_type": "code",
   "execution_count": 141,
   "id": "a4e64756-01af-44d5-94a5-9c0790800a5f",
   "metadata": {},
   "outputs": [
    {
     "name": "stdout",
     "output_type": "stream",
     "text": [
      "Best Identified Parameters:  {'class_weight': None, 'max_depth': 10, 'n_estimators': 200}\n"
     ]
    }
   ],
   "source": [
    "# Searching for best Parameters \n",
    "from sklearn.model_selection import GridSearchCV\n",
    "\n",
    "hyper_parameter = {\n",
    "    'n_estimators': [100, 200],  \n",
    "    'max_depth': [None, 10, 20],  \n",
    "    'class_weight': [None, 'balanced', 'balanced_subsample'] \n",
    "}\n",
    "\n",
    "model = RandomForestClassifier()\n",
    "\n",
    "grid_search = GridSearchCV(estimator=model, param_grid=hyper_parameter,\n",
    "                           scoring='precision', # Should prioritize Precision when selecting the best parameters\n",
    "                           cv=3)  #\n",
    "\n",
    "\n",
    "grid_search.fit(X_train, y_train)\n",
    "print(\"Best Identified Parameters: \", grid_search.best_params_) "
   ]
  },
  {
   "cell_type": "markdown",
   "id": "2cee359a-4b0b-4b4c-b2e0-9073e0da0473",
   "metadata": {},
   "source": [
    "#### Rerun the Model with the found Best Parameters \n"
   ]
  },
  {
   "cell_type": "code",
   "execution_count": 126,
   "id": "da259d11-15e2-481d-82b7-48097f264188",
   "metadata": {},
   "outputs": [],
   "source": [
    "# Best Parameters:  {'class_weight': 'balanced', 'max_depth': 10, 'n_estimators': 100}\n",
    "\n",
    "# In this case 'balanced' makes sense because the sample size for each class is imbalanced\n",
    "model = RandomForestClassifier(n_estimators=200, max_depth=10, class_weight='balanced') \n",
    "model.fit(X_train, y_train)\n",
    "y_test_preidcted = model.predict(X_test)"
   ]
  },
  {
   "cell_type": "code",
   "execution_count": 130,
   "id": "458c1b60-05de-4096-b44c-24f5f8a98fc5",
   "metadata": {},
   "outputs": [
    {
     "name": "stdout",
     "output_type": "stream",
     "text": [
      "              precision    recall  f1-score   support\n",
      "\n",
      "           0       0.90      0.99      0.94     11958\n",
      "           1       0.70      0.17      0.27      1596\n",
      "\n",
      "    accuracy                           0.89     13554\n",
      "   macro avg       0.80      0.58      0.61     13554\n",
      "weighted avg       0.88      0.89      0.86     13554\n",
      "\n"
     ]
    }
   ],
   "source": [
    "# Model Performance of the new model\n",
    "print(classification_report(y_test, y_test_preidcted))"
   ]
  },
  {
   "cell_type": "markdown",
   "id": "77f6d241-e3af-4dcf-9238-8b535c3fa6a8",
   "metadata": {},
   "source": [
    "We see that precision has increased 70% (vs 33% in previous model). Overall accuracy has also increased to 89% (vs 81%)"
   ]
  },
  {
   "cell_type": "markdown",
   "id": "3c8ba87d-f7d7-43bf-8f92-ccc91055c44a",
   "metadata": {},
   "source": [
    "### 4.4 Feature Importance "
   ]
  },
  {
   "cell_type": "code",
   "execution_count": 131,
   "id": "3addf834-0791-4686-994d-419fbd6bbcc7",
   "metadata": {},
   "outputs": [
    {
     "data": {
      "text/html": [
       "<div>\n",
       "<style scoped>\n",
       "    .dataframe tbody tr th:only-of-type {\n",
       "        vertical-align: middle;\n",
       "    }\n",
       "\n",
       "    .dataframe tbody tr th {\n",
       "        vertical-align: top;\n",
       "    }\n",
       "\n",
       "    .dataframe thead th {\n",
       "        text-align: right;\n",
       "    }\n",
       "</style>\n",
       "<table border=\"1\" class=\"dataframe\">\n",
       "  <thead>\n",
       "    <tr style=\"text-align: right;\">\n",
       "      <th></th>\n",
       "      <th>importance</th>\n",
       "      <th>features</th>\n",
       "    </tr>\n",
       "  </thead>\n",
       "  <tbody>\n",
       "    <tr>\n",
       "      <th>47</th>\n",
       "      <td>0.107525</td>\n",
       "      <td>poutcome_success</td>\n",
       "    </tr>\n",
       "    <tr>\n",
       "      <th>32</th>\n",
       "      <td>0.084519</td>\n",
       "      <td>contact_unknown</td>\n",
       "    </tr>\n",
       "    <tr>\n",
       "      <th>0</th>\n",
       "      <td>0.072276</td>\n",
       "      <td>age</td>\n",
       "    </tr>\n",
       "    <tr>\n",
       "      <th>1</th>\n",
       "      <td>0.064526</td>\n",
       "      <td>balance</td>\n",
       "    </tr>\n",
       "    <tr>\n",
       "      <th>30</th>\n",
       "      <td>0.051637</td>\n",
       "      <td>contact_cellular</td>\n",
       "    </tr>\n",
       "    <tr>\n",
       "      <th>26</th>\n",
       "      <td>0.051095</td>\n",
       "      <td>housing_no</td>\n",
       "    </tr>\n",
       "    <tr>\n",
       "      <th>27</th>\n",
       "      <td>0.048302</td>\n",
       "      <td>housing_yes</td>\n",
       "    </tr>\n",
       "    <tr>\n",
       "      <th>2</th>\n",
       "      <td>0.045314</td>\n",
       "      <td>day</td>\n",
       "    </tr>\n",
       "    <tr>\n",
       "      <th>4</th>\n",
       "      <td>0.042123</td>\n",
       "      <td>previous</td>\n",
       "    </tr>\n",
       "    <tr>\n",
       "      <th>3</th>\n",
       "      <td>0.035123</td>\n",
       "      <td>campaign</td>\n",
       "    </tr>\n",
       "  </tbody>\n",
       "</table>\n",
       "</div>"
      ],
      "text/plain": [
       "    importance          features\n",
       "47    0.107525  poutcome_success\n",
       "32    0.084519   contact_unknown\n",
       "0     0.072276               age\n",
       "1     0.064526           balance\n",
       "30    0.051637  contact_cellular\n",
       "26    0.051095        housing_no\n",
       "27    0.048302       housing_yes\n",
       "2     0.045314               day\n",
       "4     0.042123          previous\n",
       "3     0.035123          campaign"
      ]
     },
     "execution_count": 131,
     "metadata": {},
     "output_type": "execute_result"
    }
   ],
   "source": [
    "ftr_imp_values = model.feature_importances_\n",
    "# ftr_importances = pd.Series(ftr_imp_values, index=X_train.columns)\n",
    "# ftr_top10 = ftr_importances.sort_values(ascending=False)[:10]  # Get top 10 features based on importance\n",
    "\n",
    "# or if want to put it in a dataframe:  \n",
    "ftr_importances = pd.DataFrame({'importance': ftr_imp_values, 'features': X_train.columns})\n",
    "ftr_top10 = ftr_importances.sort_values(by='importance', ascending=False)[:10] \n",
    "\n",
    "ftr_top10"
   ]
  },
  {
   "cell_type": "code",
   "execution_count": 132,
   "id": "adb5b6c0-c49f-4185-a5c9-8b9db316e038",
   "metadata": {},
   "outputs": [
    {
     "name": "stderr",
     "output_type": "stream",
     "text": [
      "/var/folders/wd/k8bhnlr94jb3l5fvbl852pph0000gn/T/ipykernel_59148/3582416288.py:4: FutureWarning: \n",
      "\n",
      "Passing `palette` without assigning `hue` is deprecated and will be removed in v0.14.0. Assign the `y` variable to `hue` and set `legend=False` for the same effect.\n",
      "\n",
      "  sns.barplot(x=ftr_top10['importance'], y=ftr_top10['features'], palette='Blues_r');\n"
     ]
    },
    {
     "data": {
      "image/png": "[encoded data removed]",
      "text/plain": [
       "<Figure size 400x300 with 1 Axes>"
      ]
     },
     "metadata": {},
     "output_type": "display_data"
    }
   ],
   "source": [
    "# Visualization \n",
    "plt.figure(figsize=(4,3))\n",
    "plt.title('Feature Importances')\n",
    "sns.barplot(x=ftr_top10['importance'], y=ftr_top10['features'], palette='Blues_r');"
   ]
  },
  {
   "cell_type": "markdown",
   "id": "a4403b8b-39aa-4972-b848-ee1d42513b02",
   "metadata": {},
   "source": [
    "### 4.5 Partial Dependence Plot"
   ]
  },
  {
   "cell_type": "markdown",
   "id": "5015b553-76bc-4725-a7ba-9f73824f7631",
   "metadata": {},
   "source": [
    "The top features identified through feature importance analysis are:\n",
    "1. **poutcome_success** – whether the previous campaign was successful\n",
    "2. **contact_unknown** – availability of a contact method\n",
    "3. **age**\n",
    "4. **balance** - yearly average balance in chequing account \n",
    "\n",
    "To further explore the behavioral patterns of potential subscribers, Partial Dependence Plots (PDPs) can be drawn for these features. This will help understand how changes in each feature influence the likelihood of subscription, while holding other variables constant."
   ]
  },
  {
   "cell_type": "code",
   "execution_count": 136,
   "id": "b59195c5-7631-4415-9642-c127a0aa92b1",
   "metadata": {},
   "outputs": [
    {
     "data": {
      "image/png": "[encoded data removed]",
      "text/plain": [
       "<Figure size 640x480 with 5 Axes>"
      ]
     },
     "metadata": {},
     "output_type": "display_data"
    }
   ],
   "source": [
    "PartialDependenceDisplay.from_estimator(model, X_train,  \n",
    "                                        features=['poutcome_success', 'poutcome_failure', 'poutcome_other', 'poutcome_unknown'],\n",
    "                                        n_cols=4, \n",
    "                                        kind='average'\n",
    ");"
   ]
  },
  {
   "cell_type": "markdown",
   "id": "c7150cd1-bb1f-4cbe-9e36-f0fe84c17d11",
   "metadata": {},
   "source": [
    "The likelihood of subscribing to a term deposit increases when poutcome_success is 1, indicating that **customers with a successful previous campaign are more likely to subscribe.**"
   ]
  },
  {
   "cell_type": "code",
   "execution_count": 189,
   "id": "59a97226-8274-412b-a642-0de8be9f6ad9",
   "metadata": {},
   "outputs": [
    {
     "data": {
      "image/png": "[encoded data removed]",
      "text/plain": [
       "<Figure size 640x480 with 4 Axes>"
      ]
     },
     "metadata": {},
     "output_type": "display_data"
    }
   ],
   "source": [
    "PartialDependenceDisplay.from_estimator(model, X_train, features=['contact_unknown', 'contact_cellular', 'contact_telephone'],  kind='average');"
   ]
  },
  {
   "cell_type": "markdown",
   "id": "32bdc523-db6e-4f83-a5af-73ce115a218c",
   "metadata": {},
   "source": [
    "When the customer's contact is unknown, the ikelihood of term deposit subscription is predicted to be lower as value approahces 1. On the other hand, when contact_cellular approaches 1, the likelihood of subscription increases. \n",
    "This suggests that **customers with a known mobile contact are predicted to be more likely to subscribe** compared to those whose contact method is unknown."
   ]
  },
  {
   "cell_type": "code",
   "execution_count": 190,
   "id": "b0bbab5f-66d1-48ce-8547-1677f4da2aaf",
   "metadata": {},
   "outputs": [
    {
     "data": {
      "image/png": "[encoded data removed]",
      "text/plain": [
       "<Figure size 640x480 with 2 Axes>"
      ]
     },
     "metadata": {},
     "output_type": "display_data"
    }
   ],
   "source": [
    "PartialDependenceDisplay.from_estimator(model, X_train, features=['age'],  kind='average');"
   ]
  },
  {
   "cell_type": "markdown",
   "id": "9784019b-968b-40f4-85dd-47a6415ea3b4",
   "metadata": {},
   "source": [
    "Customers **under 20 and over 60 are predicted to have a higher likelihood of subscribing** to a term deposit."
   ]
  },
  {
   "cell_type": "code",
   "execution_count": 192,
   "id": "cd14ae4d-befa-4b0b-a205-a23a751166ab",
   "metadata": {},
   "outputs": [
    {
     "data": {
      "image/png": "[encoded data removed]",
      "text/plain": [
       "<Figure size 640x480 with 2 Axes>"
      ]
     },
     "metadata": {},
     "output_type": "display_data"
    }
   ],
   "source": [
    "PartialDependenceDisplay.from_estimator(model, X_train, features=['balance'],  kind='average');"
   ]
  },
  {
   "cell_type": "markdown",
   "id": "027e9650-2c56-4321-abe3-f3573fea019b",
   "metadata": {},
   "source": [
    "There is a general trend where a **higher balance is associated with a greater likelihood of subscribing to a term deposit.** However, the increase in subscription likelihood plateaus beyond approximately 2,000."
   ]
  },
  {
   "cell_type": "markdown",
   "id": "e7580600-41c7-4015-b0c5-fb93a621d2a1",
   "metadata": {},
   "source": [
    "## 5. Conclusion"
   ]
  },
  {
   "cell_type": "markdown",
   "id": "37fb239b-eb6e-4dfe-9b7e-57d88f7770f2",
   "metadata": {},
   "source": [
    "The most important factors influencing term deposit subscription and the key behavioral patterns of subscribers are as follows:\n",
    "- Previous Campaign Outcome: Customers with a successful outcome in prior marketing campaigns are significantly more likely to subscribe again.\n",
    "- Contact Method: Customers with a known mobile contact method show higher subscription rates\n",
    "- Age: Subscription likelihood is higher among both younger customers (under 20s) and older customers (60s and above)\n",
    "- Balance: Customers with average account balances exceeding 2,000 are more likely to subscribe"
   ]
  },
  {
   "cell_type": "markdown",
   "id": "c7175960-587c-4cc2-9124-b89bac49753d",
   "metadata": {},
   "source": [
    "Based on these results, Bank A can high priority customers can be defined as customers who \n",
    "- Responded positively to previous campaigns\n",
    "- Have a mobile contact method\n",
    "- Are aged under 20 or over 60\n",
    "- Have a yearly account balance of at least 2,000\n",
    "\n",
    "**Final Strategy: Send personalized mobile campaigns to these high priority customers, as they represent the highest likelihood of term deposit subscription.**"
   ]
  },
  {
   "cell_type": "markdown",
   "id": "ab385551-f63d-4116-ab07-a8f2f50a5a41",
   "metadata": {},
   "source": [
    "**Additional Strategies to Improve Subscription Likelihood:**\n",
    "\n",
    "Age-Based Targeted Campaign Messaging\n",
    "- Younger Customers (teens to 20s): Promote term deposits as smart savings for young professionals beginning their financial journey.\n",
    "- Older Customers (60+): Tailor messages focusing on retirement planning and long-term financial security.\n",
    "\n",
    "Contact Method Improvement (For Long-Term Gains)\n",
    "- Encourage customers to update or provide their mobile contact information, since customers reachable via mobile show significantly higher subscription rates.\n",
    "\n"
   ]
  }
 ],
 "metadata": {
  "kernelspec": {
   "display_name": "Python [conda env:base] *",
   "language": "python",
   "name": "conda-base-py"
  },
  "language_info": {
   "codemirror_mode": {
    "name": "ipython",
    "version": 3
   },
   "file_extension": ".py",
   "mimetype": "text/x-python",
   "name": "python",
   "nbconvert_exporter": "python",
   "pygments_lexer": "ipython3",
   "version": "3.12.7"
  }
 },
 "nbformat": 4,
 "nbformat_minor": 5
}
