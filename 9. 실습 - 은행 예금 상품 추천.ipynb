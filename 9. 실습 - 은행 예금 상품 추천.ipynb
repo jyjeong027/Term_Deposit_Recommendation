{
 "cells": [
  {
   "cell_type": "markdown",
   "id": "92fb4cca-fd75-4fd7-b1dc-8fb5fcd2ac36",
   "metadata": {},
   "source": [
    "이번 프로젝트의 목표는 정기예금을 가입할 확률이 높은 고객군을 찾아낼 수 있는 예측 모델을 개발하는 것입니다. 주어진 데이터는 포르투갈의 한 은행의 고객 정보로, 고객 45,211명의 정기예금 가입 여부 및 관련된 개인 정보와 마케팅 이력이 담겨 있어요. 데이터를 살펴보며 예측 모델의 성능을 높여줄 의미 있는 변수들을 선택한 후, 적절한 머신 러닝 모델을 선택해 고객의 정기예금 가입 여부를 예측하는 분류 모델을 완성해 주시면 됩니다. 어떻게 해야 할지 잘 모르겠다면 아래 가이드라인을 참고하여 코드를 작성해 보세요!\n",
    "\n",
    "데이터 설명\n",
    "age: 나이\n",
    "job: 직업\n",
    "admin: 관리직\n",
    "blue-collar: 현장 근로자\n",
    "entrepreneur: 기업가\n",
    "housemaid: 가정부\n",
    "management: 경영직\n",
    "retired: 은퇴자\n",
    "self-employed: 자영업자\n",
    "services: 서비스업 종사자\n",
    "student: 학생\n",
    "technician: 기술자\n",
    "unemployed: 실업자\n",
    "unknown: 알 수 없음\n",
    "marital: 결혼 상태\n",
    "divorced: 이혼 혹은 사별\n",
    "married: 기혼\n",
    "single: 미혼\n",
    "unknown: 알 수 없음\n",
    "education: 교육 수준\n",
    "primary: 초등 교육\n",
    "secondary: 중등 교육\n",
    "tertiary: 고등 교육\n",
    "unknown: 알 수 없음\n",
    "default: 디폴트(채무 불이행) 여부 (yes or no)\n",
    "balance: 연평균 통장 잔고 (단위: 유로)\n",
    "housing: 주택 담보 대출 여부 (yes or no)\n",
    "loan: 개인 대출 여부 (yes or no)\n",
    "contact: 연락 수단 유형\n",
    "cellular: 휴대전화\n",
    "telephone: 유선전화\n",
    "unknown: 알 수 없음\n",
    "day: 마지막으로 고객에게 연락했던 일자(1~31의 숫자로 표기)\n",
    "month: 마지막으로 고객에게 연락했던 월 (jan~dec의 문자로 표기)\n",
    "campaign: 이번 캠페인 기간 동안 고객에게 연락한 횟수\n",
    "pdays: 이전 캠페인 기간의 마지막 연락 이후 경과한 일수 (단, -1은 해당 고객에게 이전에 연락한 적이 없다는 의미)\n",
    "previous: 이번 캠페인 기간 이전에 고객에게 연락한 횟수\n",
    "poutcome: 이전 캠페인의 결과\n",
    "success: 성공\n",
    "failure: 실패\n",
    "other: 기타\n",
    "unknown: 알 수 없음\n",
    "y: 해당 분류 문제의 y값, 즉 정답. 고객의 정기예금 가입 여부 (yes or no)"
   ]
  },
  {
   "cell_type": "code",
   "execution_count": 1,
   "id": "4a341065-ccb2-4ae6-b961-eeee62b18aac",
   "metadata": {},
   "outputs": [
    {
     "data": {
      "text/html": [
       "<div>\n",
       "<style scoped>\n",
       "    .dataframe tbody tr th:only-of-type {\n",
       "        vertical-align: middle;\n",
       "    }\n",
       "\n",
       "    .dataframe tbody tr th {\n",
       "        vertical-align: top;\n",
       "    }\n",
       "\n",
       "    .dataframe thead th {\n",
       "        text-align: right;\n",
       "    }\n",
       "</style>\n",
       "<table border=\"1\" class=\"dataframe\">\n",
       "  <thead>\n",
       "    <tr style=\"text-align: right;\">\n",
       "      <th></th>\n",
       "      <th>age</th>\n",
       "      <th>job</th>\n",
       "      <th>marital</th>\n",
       "      <th>education</th>\n",
       "      <th>default</th>\n",
       "      <th>balance</th>\n",
       "      <th>housing</th>\n",
       "      <th>loan</th>\n",
       "      <th>contact</th>\n",
       "      <th>day</th>\n",
       "      <th>month</th>\n",
       "      <th>campaign</th>\n",
       "      <th>pdays</th>\n",
       "      <th>previous</th>\n",
       "      <th>poutcome</th>\n",
       "      <th>y</th>\n",
       "    </tr>\n",
       "  </thead>\n",
       "  <tbody>\n",
       "    <tr>\n",
       "      <th>0</th>\n",
       "      <td>58</td>\n",
       "      <td>management</td>\n",
       "      <td>married</td>\n",
       "      <td>tertiary</td>\n",
       "      <td>no</td>\n",
       "      <td>2143</td>\n",
       "      <td>yes</td>\n",
       "      <td>no</td>\n",
       "      <td>unknown</td>\n",
       "      <td>5</td>\n",
       "      <td>may</td>\n",
       "      <td>1</td>\n",
       "      <td>-1</td>\n",
       "      <td>0</td>\n",
       "      <td>unknown</td>\n",
       "      <td>no</td>\n",
       "    </tr>\n",
       "    <tr>\n",
       "      <th>1</th>\n",
       "      <td>44</td>\n",
       "      <td>technician</td>\n",
       "      <td>single</td>\n",
       "      <td>secondary</td>\n",
       "      <td>no</td>\n",
       "      <td>29</td>\n",
       "      <td>yes</td>\n",
       "      <td>no</td>\n",
       "      <td>unknown</td>\n",
       "      <td>5</td>\n",
       "      <td>may</td>\n",
       "      <td>1</td>\n",
       "      <td>-1</td>\n",
       "      <td>0</td>\n",
       "      <td>unknown</td>\n",
       "      <td>no</td>\n",
       "    </tr>\n",
       "    <tr>\n",
       "      <th>2</th>\n",
       "      <td>33</td>\n",
       "      <td>entrepreneur</td>\n",
       "      <td>married</td>\n",
       "      <td>secondary</td>\n",
       "      <td>no</td>\n",
       "      <td>2</td>\n",
       "      <td>yes</td>\n",
       "      <td>yes</td>\n",
       "      <td>unknown</td>\n",
       "      <td>5</td>\n",
       "      <td>may</td>\n",
       "      <td>1</td>\n",
       "      <td>-1</td>\n",
       "      <td>0</td>\n",
       "      <td>unknown</td>\n",
       "      <td>no</td>\n",
       "    </tr>\n",
       "    <tr>\n",
       "      <th>3</th>\n",
       "      <td>47</td>\n",
       "      <td>blue-collar</td>\n",
       "      <td>married</td>\n",
       "      <td>unknown</td>\n",
       "      <td>no</td>\n",
       "      <td>1506</td>\n",
       "      <td>yes</td>\n",
       "      <td>no</td>\n",
       "      <td>unknown</td>\n",
       "      <td>5</td>\n",
       "      <td>may</td>\n",
       "      <td>1</td>\n",
       "      <td>-1</td>\n",
       "      <td>0</td>\n",
       "      <td>unknown</td>\n",
       "      <td>no</td>\n",
       "    </tr>\n",
       "    <tr>\n",
       "      <th>4</th>\n",
       "      <td>33</td>\n",
       "      <td>unknown</td>\n",
       "      <td>single</td>\n",
       "      <td>unknown</td>\n",
       "      <td>no</td>\n",
       "      <td>1</td>\n",
       "      <td>no</td>\n",
       "      <td>no</td>\n",
       "      <td>unknown</td>\n",
       "      <td>5</td>\n",
       "      <td>may</td>\n",
       "      <td>1</td>\n",
       "      <td>-1</td>\n",
       "      <td>0</td>\n",
       "      <td>unknown</td>\n",
       "      <td>no</td>\n",
       "    </tr>\n",
       "  </tbody>\n",
       "</table>\n",
       "</div>"
      ],
      "text/plain": [
       "   age           job  marital  education default  balance housing loan  \\\n",
       "0   58    management  married   tertiary      no     2143     yes   no   \n",
       "1   44    technician   single  secondary      no       29     yes   no   \n",
       "2   33  entrepreneur  married  secondary      no        2     yes  yes   \n",
       "3   47   blue-collar  married    unknown      no     1506     yes   no   \n",
       "4   33       unknown   single    unknown      no        1      no   no   \n",
       "\n",
       "   contact  day month  campaign  pdays  previous poutcome   y  \n",
       "0  unknown    5   may         1     -1         0  unknown  no  \n",
       "1  unknown    5   may         1     -1         0  unknown  no  \n",
       "2  unknown    5   may         1     -1         0  unknown  no  \n",
       "3  unknown    5   may         1     -1         0  unknown  no  \n",
       "4  unknown    5   may         1     -1         0  unknown  no  "
      ]
     },
     "execution_count": 1,
     "metadata": {},
     "output_type": "execute_result"
    }
   ],
   "source": [
    "import pandas as pd\n",
    "\n",
    "# 소숫점 둘째 자리 까지로 제한 \n",
    "# pd.options.display.float_format = '{:,.2f}'.format \n",
    "\n",
    "bank_df = pd.read_csv('/Users/florajeong/Desktop/UCLA/Prep/Codeit Data Science/bank.csv')\n",
    "bank_df.head()"
   ]
  },
  {
   "cell_type": "markdown",
   "id": "31ad63eb-d8f2-4b10-86db-7382a3aa0b06",
   "metadata": {
    "jp-MarkdownHeadingCollapsed": true
   },
   "source": [
    "### Data Cleaning"
   ]
  },
  {
   "cell_type": "code",
   "execution_count": 2,
   "id": "641e16cb-373f-443f-847b-15697fda395c",
   "metadata": {},
   "outputs": [
    {
     "data": {
      "text/plain": [
       "age          0\n",
       "job          0\n",
       "marital      0\n",
       "education    0\n",
       "default      0\n",
       "balance      0\n",
       "housing      0\n",
       "loan         0\n",
       "contact      0\n",
       "day          0\n",
       "month        0\n",
       "campaign     0\n",
       "pdays        0\n",
       "previous     0\n",
       "poutcome     0\n",
       "y            0\n",
       "dtype: int64"
      ]
     },
     "execution_count": 2,
     "metadata": {},
     "output_type": "execute_result"
    }
   ],
   "source": [
    "# 1. Check for Null Values \n",
    "bank_df.isnull().sum()\n",
    "\n",
    "# 1.1 IF above had null values\n",
    "# bank_df[bank_df.isna().any(axis=1)] # Get all rows with null in any one of the columns \n",
    "# bank_df.dropna() # Drop all rows with null in any one of the columns"
   ]
  },
  {
   "cell_type": "code",
   "execution_count": 3,
   "id": "d4dd74a8-e8b4-495d-a799-f58b675b15df",
   "metadata": {},
   "outputs": [
    {
     "data": {
      "text/html": [
       "<div>\n",
       "<style scoped>\n",
       "    .dataframe tbody tr th:only-of-type {\n",
       "        vertical-align: middle;\n",
       "    }\n",
       "\n",
       "    .dataframe tbody tr th {\n",
       "        vertical-align: top;\n",
       "    }\n",
       "\n",
       "    .dataframe thead th {\n",
       "        text-align: right;\n",
       "    }\n",
       "</style>\n",
       "<table border=\"1\" class=\"dataframe\">\n",
       "  <thead>\n",
       "    <tr style=\"text-align: right;\">\n",
       "      <th></th>\n",
       "      <th>age</th>\n",
       "      <th>job</th>\n",
       "      <th>marital</th>\n",
       "      <th>education</th>\n",
       "      <th>default</th>\n",
       "      <th>balance</th>\n",
       "      <th>housing</th>\n",
       "      <th>loan</th>\n",
       "      <th>contact</th>\n",
       "      <th>day</th>\n",
       "      <th>month</th>\n",
       "      <th>campaign</th>\n",
       "      <th>pdays</th>\n",
       "      <th>previous</th>\n",
       "      <th>poutcome</th>\n",
       "      <th>y</th>\n",
       "    </tr>\n",
       "  </thead>\n",
       "  <tbody>\n",
       "    <tr>\n",
       "      <th>count</th>\n",
       "      <td>45211.000000</td>\n",
       "      <td>45211</td>\n",
       "      <td>45211</td>\n",
       "      <td>45211</td>\n",
       "      <td>45211</td>\n",
       "      <td>45211.000000</td>\n",
       "      <td>45211</td>\n",
       "      <td>45211</td>\n",
       "      <td>45211</td>\n",
       "      <td>45211.000000</td>\n",
       "      <td>45211</td>\n",
       "      <td>45211.000000</td>\n",
       "      <td>45211.000000</td>\n",
       "      <td>45211.000000</td>\n",
       "      <td>45211</td>\n",
       "      <td>45211</td>\n",
       "    </tr>\n",
       "    <tr>\n",
       "      <th>unique</th>\n",
       "      <td>NaN</td>\n",
       "      <td>12</td>\n",
       "      <td>3</td>\n",
       "      <td>4</td>\n",
       "      <td>2</td>\n",
       "      <td>NaN</td>\n",
       "      <td>2</td>\n",
       "      <td>2</td>\n",
       "      <td>3</td>\n",
       "      <td>NaN</td>\n",
       "      <td>12</td>\n",
       "      <td>NaN</td>\n",
       "      <td>NaN</td>\n",
       "      <td>NaN</td>\n",
       "      <td>4</td>\n",
       "      <td>2</td>\n",
       "    </tr>\n",
       "    <tr>\n",
       "      <th>top</th>\n",
       "      <td>NaN</td>\n",
       "      <td>blue-collar</td>\n",
       "      <td>married</td>\n",
       "      <td>secondary</td>\n",
       "      <td>no</td>\n",
       "      <td>NaN</td>\n",
       "      <td>yes</td>\n",
       "      <td>no</td>\n",
       "      <td>cellular</td>\n",
       "      <td>NaN</td>\n",
       "      <td>may</td>\n",
       "      <td>NaN</td>\n",
       "      <td>NaN</td>\n",
       "      <td>NaN</td>\n",
       "      <td>unknown</td>\n",
       "      <td>no</td>\n",
       "    </tr>\n",
       "    <tr>\n",
       "      <th>freq</th>\n",
       "      <td>NaN</td>\n",
       "      <td>9732</td>\n",
       "      <td>27214</td>\n",
       "      <td>23202</td>\n",
       "      <td>44396</td>\n",
       "      <td>NaN</td>\n",
       "      <td>25130</td>\n",
       "      <td>37967</td>\n",
       "      <td>29285</td>\n",
       "      <td>NaN</td>\n",
       "      <td>13766</td>\n",
       "      <td>NaN</td>\n",
       "      <td>NaN</td>\n",
       "      <td>NaN</td>\n",
       "      <td>36959</td>\n",
       "      <td>39922</td>\n",
       "    </tr>\n",
       "    <tr>\n",
       "      <th>mean</th>\n",
       "      <td>40.936210</td>\n",
       "      <td>NaN</td>\n",
       "      <td>NaN</td>\n",
       "      <td>NaN</td>\n",
       "      <td>NaN</td>\n",
       "      <td>1362.272058</td>\n",
       "      <td>NaN</td>\n",
       "      <td>NaN</td>\n",
       "      <td>NaN</td>\n",
       "      <td>15.806419</td>\n",
       "      <td>NaN</td>\n",
       "      <td>2.763841</td>\n",
       "      <td>40.197828</td>\n",
       "      <td>0.580323</td>\n",
       "      <td>NaN</td>\n",
       "      <td>NaN</td>\n",
       "    </tr>\n",
       "    <tr>\n",
       "      <th>std</th>\n",
       "      <td>10.618762</td>\n",
       "      <td>NaN</td>\n",
       "      <td>NaN</td>\n",
       "      <td>NaN</td>\n",
       "      <td>NaN</td>\n",
       "      <td>3044.765829</td>\n",
       "      <td>NaN</td>\n",
       "      <td>NaN</td>\n",
       "      <td>NaN</td>\n",
       "      <td>8.322476</td>\n",
       "      <td>NaN</td>\n",
       "      <td>3.098021</td>\n",
       "      <td>100.128746</td>\n",
       "      <td>2.303441</td>\n",
       "      <td>NaN</td>\n",
       "      <td>NaN</td>\n",
       "    </tr>\n",
       "    <tr>\n",
       "      <th>min</th>\n",
       "      <td>18.000000</td>\n",
       "      <td>NaN</td>\n",
       "      <td>NaN</td>\n",
       "      <td>NaN</td>\n",
       "      <td>NaN</td>\n",
       "      <td>-8019.000000</td>\n",
       "      <td>NaN</td>\n",
       "      <td>NaN</td>\n",
       "      <td>NaN</td>\n",
       "      <td>1.000000</td>\n",
       "      <td>NaN</td>\n",
       "      <td>1.000000</td>\n",
       "      <td>-1.000000</td>\n",
       "      <td>0.000000</td>\n",
       "      <td>NaN</td>\n",
       "      <td>NaN</td>\n",
       "    </tr>\n",
       "    <tr>\n",
       "      <th>25%</th>\n",
       "      <td>33.000000</td>\n",
       "      <td>NaN</td>\n",
       "      <td>NaN</td>\n",
       "      <td>NaN</td>\n",
       "      <td>NaN</td>\n",
       "      <td>72.000000</td>\n",
       "      <td>NaN</td>\n",
       "      <td>NaN</td>\n",
       "      <td>NaN</td>\n",
       "      <td>8.000000</td>\n",
       "      <td>NaN</td>\n",
       "      <td>1.000000</td>\n",
       "      <td>-1.000000</td>\n",
       "      <td>0.000000</td>\n",
       "      <td>NaN</td>\n",
       "      <td>NaN</td>\n",
       "    </tr>\n",
       "    <tr>\n",
       "      <th>50%</th>\n",
       "      <td>39.000000</td>\n",
       "      <td>NaN</td>\n",
       "      <td>NaN</td>\n",
       "      <td>NaN</td>\n",
       "      <td>NaN</td>\n",
       "      <td>448.000000</td>\n",
       "      <td>NaN</td>\n",
       "      <td>NaN</td>\n",
       "      <td>NaN</td>\n",
       "      <td>16.000000</td>\n",
       "      <td>NaN</td>\n",
       "      <td>2.000000</td>\n",
       "      <td>-1.000000</td>\n",
       "      <td>0.000000</td>\n",
       "      <td>NaN</td>\n",
       "      <td>NaN</td>\n",
       "    </tr>\n",
       "    <tr>\n",
       "      <th>75%</th>\n",
       "      <td>48.000000</td>\n",
       "      <td>NaN</td>\n",
       "      <td>NaN</td>\n",
       "      <td>NaN</td>\n",
       "      <td>NaN</td>\n",
       "      <td>1428.000000</td>\n",
       "      <td>NaN</td>\n",
       "      <td>NaN</td>\n",
       "      <td>NaN</td>\n",
       "      <td>21.000000</td>\n",
       "      <td>NaN</td>\n",
       "      <td>3.000000</td>\n",
       "      <td>-1.000000</td>\n",
       "      <td>0.000000</td>\n",
       "      <td>NaN</td>\n",
       "      <td>NaN</td>\n",
       "    </tr>\n",
       "    <tr>\n",
       "      <th>max</th>\n",
       "      <td>95.000000</td>\n",
       "      <td>NaN</td>\n",
       "      <td>NaN</td>\n",
       "      <td>NaN</td>\n",
       "      <td>NaN</td>\n",
       "      <td>102127.000000</td>\n",
       "      <td>NaN</td>\n",
       "      <td>NaN</td>\n",
       "      <td>NaN</td>\n",
       "      <td>31.000000</td>\n",
       "      <td>NaN</td>\n",
       "      <td>63.000000</td>\n",
       "      <td>871.000000</td>\n",
       "      <td>275.000000</td>\n",
       "      <td>NaN</td>\n",
       "      <td>NaN</td>\n",
       "    </tr>\n",
       "  </tbody>\n",
       "</table>\n",
       "</div>"
      ],
      "text/plain": [
       "                 age          job  marital  education default        balance  \\\n",
       "count   45211.000000        45211    45211      45211   45211   45211.000000   \n",
       "unique           NaN           12        3          4       2            NaN   \n",
       "top              NaN  blue-collar  married  secondary      no            NaN   \n",
       "freq             NaN         9732    27214      23202   44396            NaN   \n",
       "mean       40.936210          NaN      NaN        NaN     NaN    1362.272058   \n",
       "std        10.618762          NaN      NaN        NaN     NaN    3044.765829   \n",
       "min        18.000000          NaN      NaN        NaN     NaN   -8019.000000   \n",
       "25%        33.000000          NaN      NaN        NaN     NaN      72.000000   \n",
       "50%        39.000000          NaN      NaN        NaN     NaN     448.000000   \n",
       "75%        48.000000          NaN      NaN        NaN     NaN    1428.000000   \n",
       "max        95.000000          NaN      NaN        NaN     NaN  102127.000000   \n",
       "\n",
       "       housing   loan   contact           day  month      campaign  \\\n",
       "count    45211  45211     45211  45211.000000  45211  45211.000000   \n",
       "unique       2      2         3           NaN     12           NaN   \n",
       "top        yes     no  cellular           NaN    may           NaN   \n",
       "freq     25130  37967     29285           NaN  13766           NaN   \n",
       "mean       NaN    NaN       NaN     15.806419    NaN      2.763841   \n",
       "std        NaN    NaN       NaN      8.322476    NaN      3.098021   \n",
       "min        NaN    NaN       NaN      1.000000    NaN      1.000000   \n",
       "25%        NaN    NaN       NaN      8.000000    NaN      1.000000   \n",
       "50%        NaN    NaN       NaN     16.000000    NaN      2.000000   \n",
       "75%        NaN    NaN       NaN     21.000000    NaN      3.000000   \n",
       "max        NaN    NaN       NaN     31.000000    NaN     63.000000   \n",
       "\n",
       "               pdays      previous poutcome      y  \n",
       "count   45211.000000  45211.000000    45211  45211  \n",
       "unique           NaN           NaN        4      2  \n",
       "top              NaN           NaN  unknown     no  \n",
       "freq             NaN           NaN    36959  39922  \n",
       "mean       40.197828      0.580323      NaN    NaN  \n",
       "std       100.128746      2.303441      NaN    NaN  \n",
       "min        -1.000000      0.000000      NaN    NaN  \n",
       "25%        -1.000000      0.000000      NaN    NaN  \n",
       "50%        -1.000000      0.000000      NaN    NaN  \n",
       "75%        -1.000000      0.000000      NaN    NaN  \n",
       "max       871.000000    275.000000      NaN    NaN  "
      ]
     },
     "execution_count": 3,
     "metadata": {},
     "output_type": "execute_result"
    }
   ],
   "source": [
    "# 2. Outlier 확인 \n",
    "bank_df.describe(include='all')\n",
    "\n",
    "# 2.1 IF outliers exist from above - Exclude Outliers for Numeric Columns (using IQR) \n",
    "# # numeric_columns = bank_df.select_dtypes(include='number').columns # All Numeric Columns \n",
    "# numeric_columns = ['balance'] # 해당 사항 있는 Numeric Column 들만 (Ex. P days 는 doesn't make sense to remove outliers) \n",
    "\n",
    "# bank_df_cleaned = bank_df \n",
    "\n",
    "# for col in numeric_columns:\n",
    "#     Q1 = bank_df_cleaned[col].quantile(0.25)\n",
    "#     Q3 = bank_df_cleaned[col].quantile(0.75)\n",
    "#     IQR = Q3 - Q1 \n",
    "\n",
    "#     lower_bound = Q1 - (IQR * 1.5)\n",
    "#     upper_bound = Q3 + (IQR * 1.5)\n",
    "\n",
    "#     bank_df_cleaned = bank_df_cleaned[(bank_df_cleaned[col] >= lower_bound) & (bank_df_cleaned[col] <= upper_bound)]\n",
    "    \n",
    "# bank_df_cleaned.describe()\n",
    "\n",
    "\n",
    "# 2.2 Visualize that Outliers have been removed \n",
    "\n",
    "# import matplotlib.pyplot as plt \n",
    "\n",
    "# plt.figure(figsize=(10,4))\n",
    "# plt.scatter(x=bank_df_cleaned['age'], y=bank_df_cleaned['balance'])\n",
    "# plt.show()\n",
    "\n",
    "# plt.figure(figsize=(10,4))\n",
    "# plt.scatter(x=bank_df['age'], y=bank_df['balance'])\n",
    "# plt.show()"
   ]
  },
  {
   "cell_type": "code",
   "execution_count": 4,
   "id": "1ed0de9c-5c3e-4ebf-8f92-68e725bc2c5c",
   "metadata": {},
   "outputs": [],
   "source": [
    "import numpy as np\n",
    "# Pdays = -1은 그 전에 연락한 적이 없는 것이기 때문에 NaN으로 바꿔줌 \n",
    "bank_df['pdays'] = bank_df['pdays'].replace(-1, np.nan)"
   ]
  },
  {
   "cell_type": "code",
   "execution_count": 5,
   "id": "f32599af-6eda-4e7c-8f8c-242ecc8ad02c",
   "metadata": {},
   "outputs": [
    {
     "data": {
      "text/plain": [
       "0"
      ]
     },
     "execution_count": 5,
     "metadata": {},
     "output_type": "execute_result"
    }
   ],
   "source": [
    "# 3. Duplicate 확인 \n",
    "bank_df.duplicated().sum() # If > 0, means there's dupliacted data \n",
    "\n",
    "# 3.1 Duplicate 존재하면 Keep only 1 \n",
    "\n",
    "# print(f\"Rows that need to be dropped: {bank_df.shape}\")\n",
    "# print(f\"Rows that need to be dropped: {bank_df[bank_df.duplicated()].sort_values(by='age').shape}\")\n",
    "\n",
    "bank_df[bank_df.duplicated(keep=False)].sort_values(by='age') # Look at the duplicates\n",
    "bank_df = bank_df.drop_duplicates() # Keep only 1\n",
    "bank_df.duplicated().sum() # Should be 0 now (check if the duplicates have been removed successfully) \n",
    "\n",
    "# print(f\"Final Rows: {bank_df.shape}\")\n"
   ]
  },
  {
   "cell_type": "markdown",
   "id": "e159d265-158c-4f34-bc82-e24cdaaccb9e",
   "metadata": {
    "jp-MarkdownHeadingCollapsed": true
   },
   "source": [
    "### EDA"
   ]
  },
  {
   "cell_type": "markdown",
   "id": "a7ff7c88-cc03-4a44-8aee-a8576aa7e62e",
   "metadata": {},
   "source": [
    "모델링에 앞서 데이터를 전반적으로 파악하고 어떤 변수가 의미가 있을지 미리 추측해 보는 EDA(Exploratory Data Analysis) 과정입니다."
   ]
  },
  {
   "cell_type": "markdown",
   "id": "5f9a30ae-e4e4-48e1-afe3-c57a83b474d4",
   "metadata": {},
   "source": [
    "#### Numeric Variables"
   ]
  },
  {
   "cell_type": "code",
   "execution_count": 6,
   "id": "e31d51e8-4f90-470a-9cbb-94d293318fe2",
   "metadata": {},
   "outputs": [
    {
     "data": {
      "text/plain": [
       "Index(['age', 'balance', 'day', 'campaign', 'pdays', 'previous'], dtype='object')"
      ]
     },
     "execution_count": 6,
     "metadata": {},
     "output_type": "execute_result"
    }
   ],
   "source": [
    "numeric_features = bank_df.select_dtypes('number').columns\n",
    "numeric_features"
   ]
  },
  {
   "cell_type": "code",
   "execution_count": 7,
   "id": "50aeae1f-d478-4ebf-a5c2-0b4d92bb6b94",
   "metadata": {},
   "outputs": [
    {
     "data": {
      "text/html": [
       "<div>\n",
       "<style scoped>\n",
       "    .dataframe tbody tr th:only-of-type {\n",
       "        vertical-align: middle;\n",
       "    }\n",
       "\n",
       "    .dataframe tbody tr th {\n",
       "        vertical-align: top;\n",
       "    }\n",
       "\n",
       "    .dataframe thead th {\n",
       "        text-align: right;\n",
       "    }\n",
       "</style>\n",
       "<table border=\"1\" class=\"dataframe\">\n",
       "  <thead>\n",
       "    <tr style=\"text-align: right;\">\n",
       "      <th></th>\n",
       "      <th>age</th>\n",
       "      <th>balance</th>\n",
       "      <th>day</th>\n",
       "      <th>campaign</th>\n",
       "      <th>pdays</th>\n",
       "      <th>previous</th>\n",
       "    </tr>\n",
       "    <tr>\n",
       "      <th>y</th>\n",
       "      <th></th>\n",
       "      <th></th>\n",
       "      <th></th>\n",
       "      <th></th>\n",
       "      <th></th>\n",
       "      <th></th>\n",
       "    </tr>\n",
       "  </thead>\n",
       "  <tbody>\n",
       "    <tr>\n",
       "      <th>no</th>\n",
       "      <td>40.840525</td>\n",
       "      <td>1304.237684</td>\n",
       "      <td>15.890518</td>\n",
       "      <td>2.846539</td>\n",
       "      <td>234.191436</td>\n",
       "      <td>0.502356</td>\n",
       "    </tr>\n",
       "    <tr>\n",
       "      <th>yes</th>\n",
       "      <td>41.670070</td>\n",
       "      <td>1804.267915</td>\n",
       "      <td>15.158253</td>\n",
       "      <td>2.141047</td>\n",
       "      <td>192.521785</td>\n",
       "      <td>1.170354</td>\n",
       "    </tr>\n",
       "  </tbody>\n",
       "</table>\n",
       "</div>"
      ],
      "text/plain": [
       "           age      balance        day  campaign       pdays  previous\n",
       "y                                                                     \n",
       "no   40.840525  1304.237684  15.890518  2.846539  234.191436  0.502356\n",
       "yes  41.670070  1804.267915  15.158253  2.141047  192.521785  1.170354"
      ]
     },
     "execution_count": 7,
     "metadata": {},
     "output_type": "execute_result"
    }
   ],
   "source": [
    "bank_df.groupby('y')[numeric_features].mean()"
   ]
  },
  {
   "cell_type": "markdown",
   "id": "b18d7dec-0a98-4d31-becd-42d8a5f68403",
   "metadata": {},
   "source": [
    "가입자들이 balance 가 더 높고, 비가입자들이 마지막 연락 이후 경과일수가 더 길다 "
   ]
  },
  {
   "cell_type": "markdown",
   "id": "6b6d53a3-e457-4db5-9f83-6a65b5bc3fae",
   "metadata": {},
   "source": [
    "#### Categorical Variables"
   ]
  },
  {
   "cell_type": "code",
   "execution_count": 8,
   "id": "df9831b6-af9a-4600-a8cf-9e5b07b558cd",
   "metadata": {},
   "outputs": [
    {
     "data": {
      "text/plain": [
       "Index(['job', 'marital', 'education', 'default', 'housing', 'loan', 'contact',\n",
       "       'month', 'poutcome', 'y'],\n",
       "      dtype='object')"
      ]
     },
     "execution_count": 8,
     "metadata": {},
     "output_type": "execute_result"
    }
   ],
   "source": [
    "categorical_features = bank_df.select_dtypes('object').columns\n",
    "categorical_features"
   ]
  },
  {
   "cell_type": "markdown",
   "id": "377a2c58-862f-42d6-bf45-f407ee22bc19",
   "metadata": {},
   "source": [
    "##### Job"
   ]
  },
  {
   "cell_type": "code",
   "execution_count": 9,
   "id": "7eda86b0-8d7a-404c-8b24-ee4e2403e849",
   "metadata": {},
   "outputs": [
    {
     "data": {
      "text/html": [
       "<div>\n",
       "<style scoped>\n",
       "    .dataframe tbody tr th:only-of-type {\n",
       "        vertical-align: middle;\n",
       "    }\n",
       "\n",
       "    .dataframe tbody tr th {\n",
       "        vertical-align: top;\n",
       "    }\n",
       "\n",
       "    .dataframe thead th {\n",
       "        text-align: right;\n",
       "    }\n",
       "</style>\n",
       "<table border=\"1\" class=\"dataframe\">\n",
       "  <thead>\n",
       "    <tr style=\"text-align: right;\">\n",
       "      <th></th>\n",
       "      <th>y</th>\n",
       "      <th>job</th>\n",
       "      <th>count</th>\n",
       "    </tr>\n",
       "  </thead>\n",
       "  <tbody>\n",
       "    <tr>\n",
       "      <th>1</th>\n",
       "      <td>no</td>\n",
       "      <td>blue-collar</td>\n",
       "      <td>9022</td>\n",
       "    </tr>\n",
       "    <tr>\n",
       "      <th>4</th>\n",
       "      <td>no</td>\n",
       "      <td>management</td>\n",
       "      <td>8150</td>\n",
       "    </tr>\n",
       "    <tr>\n",
       "      <th>9</th>\n",
       "      <td>no</td>\n",
       "      <td>technician</td>\n",
       "      <td>6753</td>\n",
       "    </tr>\n",
       "    <tr>\n",
       "      <th>0</th>\n",
       "      <td>no</td>\n",
       "      <td>admin.</td>\n",
       "      <td>4540</td>\n",
       "    </tr>\n",
       "    <tr>\n",
       "      <th>7</th>\n",
       "      <td>no</td>\n",
       "      <td>services</td>\n",
       "      <td>3783</td>\n",
       "    </tr>\n",
       "  </tbody>\n",
       "</table>\n",
       "</div>"
      ],
      "text/plain": [
       "    y          job  count\n",
       "1  no  blue-collar   9022\n",
       "4  no   management   8150\n",
       "9  no   technician   6753\n",
       "0  no       admin.   4540\n",
       "7  no     services   3783"
      ]
     },
     "execution_count": 9,
     "metadata": {},
     "output_type": "execute_result"
    }
   ],
   "source": [
    "#Series를 DataFrame으로 바꿔주면서 Series의 값을 담고 있는 컬럼에 '이름'을 붙여줌 \n",
    "count_df = bank_df.groupby(['y', 'job']).size().reset_index(name='count') \n",
    "\n",
    "count_df.sort_values(by='count', ascending=False).head()\n",
    "# count_df[count_df['y'] == 'no'].sort_values(by='count', ascending=False).head()\n",
    "# count_df[count_df['y'] == 'yes'].sort_values(by='count', ascending=False).head()"
   ]
  },
  {
   "cell_type": "code",
   "execution_count": 10,
   "id": "e7490f8f-96dd-46e2-8c09-494bd08a023e",
   "metadata": {},
   "outputs": [
    {
     "data": {
      "text/html": [
       "<div>\n",
       "<style scoped>\n",
       "    .dataframe tbody tr th:only-of-type {\n",
       "        vertical-align: middle;\n",
       "    }\n",
       "\n",
       "    .dataframe tbody tr th {\n",
       "        vertical-align: top;\n",
       "    }\n",
       "\n",
       "    .dataframe thead th {\n",
       "        text-align: right;\n",
       "    }\n",
       "</style>\n",
       "<table border=\"1\" class=\"dataframe\">\n",
       "  <thead>\n",
       "    <tr style=\"text-align: right;\">\n",
       "      <th></th>\n",
       "      <th>y</th>\n",
       "      <th>job</th>\n",
       "      <th>count</th>\n",
       "      <th>pct</th>\n",
       "    </tr>\n",
       "  </thead>\n",
       "  <tbody>\n",
       "    <tr>\n",
       "      <th>0</th>\n",
       "      <td>no</td>\n",
       "      <td>admin.</td>\n",
       "      <td>4540</td>\n",
       "      <td>0.113767</td>\n",
       "    </tr>\n",
       "    <tr>\n",
       "      <th>1</th>\n",
       "      <td>no</td>\n",
       "      <td>blue-collar</td>\n",
       "      <td>9022</td>\n",
       "      <td>0.226081</td>\n",
       "    </tr>\n",
       "    <tr>\n",
       "      <th>2</th>\n",
       "      <td>no</td>\n",
       "      <td>entrepreneur</td>\n",
       "      <td>1364</td>\n",
       "      <td>0.034180</td>\n",
       "    </tr>\n",
       "    <tr>\n",
       "      <th>3</th>\n",
       "      <td>no</td>\n",
       "      <td>housemaid</td>\n",
       "      <td>1131</td>\n",
       "      <td>0.028342</td>\n",
       "    </tr>\n",
       "    <tr>\n",
       "      <th>4</th>\n",
       "      <td>no</td>\n",
       "      <td>management</td>\n",
       "      <td>8150</td>\n",
       "      <td>0.204230</td>\n",
       "    </tr>\n",
       "  </tbody>\n",
       "</table>\n",
       "</div>"
      ],
      "text/plain": [
       "    y           job  count       pct\n",
       "0  no        admin.   4540  0.113767\n",
       "1  no   blue-collar   9022  0.226081\n",
       "2  no  entrepreneur   1364  0.034180\n",
       "3  no     housemaid   1131  0.028342\n",
       "4  no    management   8150  0.204230"
      ]
     },
     "execution_count": 10,
     "metadata": {},
     "output_type": "execute_result"
    }
   ],
   "source": [
    "# transform() = 특정 함수를 받아 Series의 각 값을 해당 방식대로 변형해 주는 함수 \n",
    "# transform() 함수를 GroupBy 객체에 적용할 경우 그루핑 기준이 된 특정 변수를 중심으로 값을 변형하겠다는 의미가 됨 \n",
    "count_df['pct'] = count_df.groupby('y')['count'].transform(lambda x: x / x.sum()) \n",
    "count_df.head()"
   ]
  },
  {
   "cell_type": "code",
   "execution_count": 11,
   "id": "6c055599-52a7-429f-ae52-663c8dfe802b",
   "metadata": {},
   "outputs": [
    {
     "data": {
      "text/plain": [
       "y\n",
       "no     1.0\n",
       "yes    1.0\n",
       "Name: pct, dtype: float64"
      ]
     },
     "execution_count": 11,
     "metadata": {},
     "output_type": "execute_result"
    }
   ],
   "source": [
    "# 각각 Y, N 의 PCT 인 것\n",
    "count_df.groupby('y')['pct'].sum()"
   ]
  },
  {
   "cell_type": "code",
   "execution_count": 13,
   "id": "2845b519-1724-4c8e-8202-8017bda58392",
   "metadata": {},
   "outputs": [
    {
     "data": {
      "image/png": "[encoded data removed]",
      "text/plain": [
       "<Figure size 1400x400 with 1 Axes>"
      ]
     },
     "metadata": {},
     "output_type": "display_data"
    }
   ],
   "source": [
    "import seaborn as sns \n",
    "import matplotlib.pyplot as plt  \n",
    "\n",
    "fig, ax = plt.subplots(figsize=(14, 4))\n",
    "sns.barplot(data=count_df, x=\"job\", y=\"pct\", hue=\"y\", hue_order=['yes', 'no'], palette=\"Blues_r\", ax=ax)\n",
    "\n",
    "# 막대 위에 해당되는 수치를 함께 시각화해 주는 코드입니다.\n",
    "for c in ax.containers:\n",
    "    ax.bar_label(c, fmt='{:.1%}');  # fmt = format. 소수점 한자리까지의 % 형태로 값을 나타내겠다는 의미입니다."
   ]
  },
  {
   "cell_type": "markdown",
   "id": "9dffc2e1-6551-415c-9e65-bf0cf84e88f3",
   "metadata": {},
   "source": [
    "##### Marital Status"
   ]
  },
  {
   "cell_type": "code",
   "execution_count": 17,
   "id": "779389ac-31e6-48c2-92d8-294309abfd2e",
   "metadata": {},
   "outputs": [
    {
     "data": {
      "image/png": "[encoded data removed]",
      "text/plain": [
       "<Figure size 800x500 with 1 Axes>"
      ]
     },
     "metadata": {},
     "output_type": "display_data"
    }
   ],
   "source": [
    "count_df = bank_df.groupby(['y', 'marital']).size().reset_index(name='count')\n",
    "count_df['percentage'] = count_df.groupby('y')['count'].transform(lambda x: x / x.sum())\n",
    "\n",
    "fig, ax = plt.subplots(figsize=(8, 5))\n",
    "sns.barplot(data=count_df, x=\"marital\", y=\"percentage\", hue=\"y\", hue_order=['yes', 'no'], palette=\"Blues_r\", ax=ax)\n",
    "\n",
    "for c in ax.containers:\n",
    "    ax.bar_label(c, fmt='{:.1%}');"
   ]
  },
  {
   "cell_type": "markdown",
   "id": "60caf579-dcc3-413b-b46f-5522ca0acb64",
   "metadata": {},
   "source": [
    "가입자 그룹에서 상대적으로 미혼(single)의 비중이 높은 편으로 나타납니다. 다만 기혼(married) 고객이 절대적으로 많은 편이다 보니 실제 가입자 내에서 가장 많은 비중을 차지하는 건 기혼 고객들입니다."
   ]
  },
  {
   "cell_type": "markdown",
   "id": "a1bfe815-b634-46f4-9251-3eb0565af08f",
   "metadata": {},
   "source": [
    "##### Education"
   ]
  },
  {
   "cell_type": "code",
   "execution_count": 18,
   "id": "35355a73-6a79-40aa-ba56-94787f8aa13b",
   "metadata": {},
   "outputs": [
    {
     "data": {
      "image/png": "[encoded data removed]",
      "text/plain": [
       "<Figure size 800x500 with 1 Axes>"
      ]
     },
     "metadata": {},
     "output_type": "display_data"
    }
   ],
   "source": [
    "count_df = bank_df.groupby(['y', 'education']).size().reset_index(name='count')\n",
    "count_df['percentage'] = count_df.groupby('y')['count'].transform(lambda x: x / x.sum())\n",
    "\n",
    "fig, ax = plt.subplots(figsize=(8, 5))\n",
    "sns.barplot(data=count_df, x=\"education\", y=\"percentage\", hue=\"y\", hue_order=['yes', 'no'], palette=\"Blues_r\", ax=ax)\n",
    "\n",
    "for c in ax.containers:\n",
    "    ax.bar_label(c, fmt='{:.1%}');"
   ]
  },
  {
   "cell_type": "markdown",
   "id": "83ef0ac9-3513-46b8-af4f-3157a04efb3e",
   "metadata": {},
   "source": [
    "가입자 그룹에서 상대적으로 고등 교육(tertiary)까지 이수한 고객의 비중이 높은 편으로 나타납니다. 다만 절대적인 고객수의 차이 영향으로 실제 가입자 내에서 가장 많은 비중을 차지하는 건 중등 교육(secondary)까지 이수한 고객입니다."
   ]
  },
  {
   "cell_type": "markdown",
   "id": "d6091de2-5bef-4277-accf-36cd41fba8bd",
   "metadata": {},
   "source": [
    "### Preditive Modeling  "
   ]
  },
  {
   "cell_type": "markdown",
   "id": "311fdad2-f4bd-499a-b468-a2076deaa322",
   "metadata": {
    "jp-MarkdownHeadingCollapsed": true
   },
   "source": [
    "#### Data Preparation"
   ]
  },
  {
   "cell_type": "markdown",
   "id": "44075f43-dc66-4dda-b0b7-0b70c4822f56",
   "metadata": {},
   "source": [
    "목표 변수(y) = 정기 예금 가입 여부인 분류 모델 \n",
    "Classification Model 의 종류 \n",
    "- Logistic Regression\n",
    "- K Nearest Neighbour\n",
    "- Decision Tree (Classification Tree)\n",
    "\n",
    "Ensemble Model 의 종류\n",
    "- Random Forest "
   ]
  },
  {
   "cell_type": "markdown",
   "id": "491e9c15-1420-4dc2-b8dc-350b2ad67ef3",
   "metadata": {},
   "source": [
    "pdays 컬럼은 이전 캠페인 기간의 마지막 연락 이후 경과한 일수를 나타내는데, 여기에는 -1이라는 값이 포함되어 있습니다. -1은 해당 고객에게 이전에 연락한 적이 없다는 의미이므로 다른 수치와 연속적으로 해석되기 어렵습니다.\n",
    "(1에서 2로 변화하는 구간은 마지막 연락 이후 경과 일수가 1 증가한다는 뜻인데, -1에서 0으로 변화하는 구간은 동일하게 1의 차이이지만 내포하고 있는 의미가 다르기 때문입니다.)\n",
    "\n",
    "그러므로 pdays 컬럼은 범주형 변수로 바꿔 사용하겠습니다."
   ]
  },
  {
   "cell_type": "code",
   "execution_count": 113,
   "id": "6495e93f-3e53-4451-b6eb-160df98e974d",
   "metadata": {},
   "outputs": [
    {
     "data": {
      "text/plain": [
       "pdays_category\n",
       "연락_X              36938\n",
       "<200일 이내           2879\n",
       "300일 이상            2497\n",
       "300일 이내            1474\n",
       "<100일 이내           1407\n",
       "Name: count, dtype: int64"
      ]
     },
     "execution_count": 113,
     "metadata": {},
     "output_type": "execute_result"
    }
   ],
   "source": [
    "# # pdays_category라는 커스텀 함수를 만든 후, apply() 함수를 사용해 수치에 따른 그룹 정보를 연결해 주겠습니다.\n",
    "def pdays_category(pdays): \n",
    "    if pd.isna(pdays):\n",
    "        return '연락_X'\n",
    "    elif pdays < 100:\n",
    "        return '<100일 이내'\n",
    "    elif pdays < 200:\n",
    "        return '<200일 이내'\n",
    "    elif pdays <300:\n",
    "        return '300일 이내'\n",
    "    else:\n",
    "        return '300일 이상' \n",
    "\n",
    "bank_df['pdays_category'] = bank_df['pdays'].apply(pdays_category)\n",
    "bank_df[['pdays_category']].value_counts()\n",
    "# bank_df.groupby('pdays_category')['pdays'].unique()"
   ]
  },
  {
   "cell_type": "code",
   "execution_count": 120,
   "id": "7d6fb13e-4396-4a5e-9df3-21062df0d843",
   "metadata": {},
   "outputs": [
    {
     "data": {
      "text/plain": [
       "y\n",
       "0    39906\n",
       "1     5289\n",
       "Name: count, dtype: int64"
      ]
     },
     "execution_count": 120,
     "metadata": {},
     "output_type": "execute_result"
    }
   ],
   "source": [
    "# Target Variable Assignemnt\n",
    " # 정기 예금 가입자 = 1, 비가입자 = 0 으로 바꿔줌 (근데 굳이 숫자로 안 바꿔도 모델이 알아서 바꿔주기는 함) \n",
    "y = bank_df['y']\n",
    "y = y.apply(lambda x: 1 if x == 'yes' else 0)\n",
    "y.value_counts()"
   ]
  },
  {
   "cell_type": "code",
   "execution_count": 125,
   "id": "e8ce3eb5-d055-47f7-b0e5-6b879df88ce5",
   "metadata": {},
   "outputs": [
    {
     "data": {
      "text/html": [
       "<div>\n",
       "<style scoped>\n",
       "    .dataframe tbody tr th:only-of-type {\n",
       "        vertical-align: middle;\n",
       "    }\n",
       "\n",
       "    .dataframe tbody tr th {\n",
       "        vertical-align: top;\n",
       "    }\n",
       "\n",
       "    .dataframe thead th {\n",
       "        text-align: right;\n",
       "    }\n",
       "</style>\n",
       "<table border=\"1\" class=\"dataframe\">\n",
       "  <thead>\n",
       "    <tr style=\"text-align: right;\">\n",
       "      <th></th>\n",
       "      <th>age</th>\n",
       "      <th>job</th>\n",
       "      <th>marital</th>\n",
       "      <th>education</th>\n",
       "      <th>default</th>\n",
       "      <th>balance</th>\n",
       "      <th>housing</th>\n",
       "      <th>loan</th>\n",
       "      <th>contact</th>\n",
       "      <th>day</th>\n",
       "      <th>month</th>\n",
       "      <th>campaign</th>\n",
       "      <th>previous</th>\n",
       "      <th>poutcome</th>\n",
       "      <th>senior_ind</th>\n",
       "      <th>age_group</th>\n",
       "      <th>segment</th>\n",
       "      <th>age_balance_group</th>\n",
       "      <th>pdays_category</th>\n",
       "    </tr>\n",
       "  </thead>\n",
       "  <tbody>\n",
       "    <tr>\n",
       "      <th>0</th>\n",
       "      <td>58</td>\n",
       "      <td>management</td>\n",
       "      <td>married</td>\n",
       "      <td>tertiary</td>\n",
       "      <td>no</td>\n",
       "      <td>2143</td>\n",
       "      <td>yes</td>\n",
       "      <td>no</td>\n",
       "      <td>unknown</td>\n",
       "      <td>5</td>\n",
       "      <td>may</td>\n",
       "      <td>1</td>\n",
       "      <td>0</td>\n",
       "      <td>unknown</td>\n",
       "      <td>non-senior</td>\n",
       "      <td>young_adult</td>\n",
       "      <td>other</td>\n",
       "      <td>other</td>\n",
       "      <td>연락_X</td>\n",
       "    </tr>\n",
       "    <tr>\n",
       "      <th>1</th>\n",
       "      <td>44</td>\n",
       "      <td>technician</td>\n",
       "      <td>single</td>\n",
       "      <td>secondary</td>\n",
       "      <td>no</td>\n",
       "      <td>29</td>\n",
       "      <td>yes</td>\n",
       "      <td>no</td>\n",
       "      <td>unknown</td>\n",
       "      <td>5</td>\n",
       "      <td>may</td>\n",
       "      <td>1</td>\n",
       "      <td>0</td>\n",
       "      <td>unknown</td>\n",
       "      <td>non-senior</td>\n",
       "      <td>young_adult</td>\n",
       "      <td>other</td>\n",
       "      <td>other</td>\n",
       "      <td>연락_X</td>\n",
       "    </tr>\n",
       "    <tr>\n",
       "      <th>2</th>\n",
       "      <td>33</td>\n",
       "      <td>entrepreneur</td>\n",
       "      <td>married</td>\n",
       "      <td>secondary</td>\n",
       "      <td>no</td>\n",
       "      <td>2</td>\n",
       "      <td>yes</td>\n",
       "      <td>yes</td>\n",
       "      <td>unknown</td>\n",
       "      <td>5</td>\n",
       "      <td>may</td>\n",
       "      <td>1</td>\n",
       "      <td>0</td>\n",
       "      <td>unknown</td>\n",
       "      <td>non-senior</td>\n",
       "      <td>young_adult</td>\n",
       "      <td>other</td>\n",
       "      <td>other</td>\n",
       "      <td>연락_X</td>\n",
       "    </tr>\n",
       "    <tr>\n",
       "      <th>3</th>\n",
       "      <td>47</td>\n",
       "      <td>blue-collar</td>\n",
       "      <td>married</td>\n",
       "      <td>unknown</td>\n",
       "      <td>no</td>\n",
       "      <td>1506</td>\n",
       "      <td>yes</td>\n",
       "      <td>no</td>\n",
       "      <td>unknown</td>\n",
       "      <td>5</td>\n",
       "      <td>may</td>\n",
       "      <td>1</td>\n",
       "      <td>0</td>\n",
       "      <td>unknown</td>\n",
       "      <td>non-senior</td>\n",
       "      <td>young_adult</td>\n",
       "      <td>other</td>\n",
       "      <td>other</td>\n",
       "      <td>연락_X</td>\n",
       "    </tr>\n",
       "    <tr>\n",
       "      <th>4</th>\n",
       "      <td>33</td>\n",
       "      <td>unknown</td>\n",
       "      <td>single</td>\n",
       "      <td>unknown</td>\n",
       "      <td>no</td>\n",
       "      <td>1</td>\n",
       "      <td>no</td>\n",
       "      <td>no</td>\n",
       "      <td>unknown</td>\n",
       "      <td>5</td>\n",
       "      <td>may</td>\n",
       "      <td>1</td>\n",
       "      <td>0</td>\n",
       "      <td>unknown</td>\n",
       "      <td>non-senior</td>\n",
       "      <td>young_adult</td>\n",
       "      <td>other</td>\n",
       "      <td>other</td>\n",
       "      <td>연락_X</td>\n",
       "    </tr>\n",
       "  </tbody>\n",
       "</table>\n",
       "</div>"
      ],
      "text/plain": [
       "   age           job  marital  education default  balance housing loan  \\\n",
       "0   58    management  married   tertiary      no     2143     yes   no   \n",
       "1   44    technician   single  secondary      no       29     yes   no   \n",
       "2   33  entrepreneur  married  secondary      no        2     yes  yes   \n",
       "3   47   blue-collar  married    unknown      no     1506     yes   no   \n",
       "4   33       unknown   single    unknown      no        1      no   no   \n",
       "\n",
       "   contact  day month  campaign  previous poutcome  senior_ind    age_group  \\\n",
       "0  unknown    5   may         1         0  unknown  non-senior  young_adult   \n",
       "1  unknown    5   may         1         0  unknown  non-senior  young_adult   \n",
       "2  unknown    5   may         1         0  unknown  non-senior  young_adult   \n",
       "3  unknown    5   may         1         0  unknown  non-senior  young_adult   \n",
       "4  unknown    5   may         1         0  unknown  non-senior  young_adult   \n",
       "\n",
       "  segment age_balance_group pdays_category  \n",
       "0   other             other           연락_X  \n",
       "1   other             other           연락_X  \n",
       "2   other             other           연락_X  \n",
       "3   other             other           연락_X  \n",
       "4   other             other           연락_X  "
      ]
     },
     "execution_count": 125,
     "metadata": {},
     "output_type": "execute_result"
    }
   ],
   "source": [
    "# Feature Variables Assignment\n",
    "X = bank_df.drop(['y','pdays'], axis=1)  #pdays 대신 pdays_category 사용\n",
    "X.head()"
   ]
  },
  {
   "cell_type": "code",
   "execution_count": 126,
   "id": "5af78129-b5b1-4331-9ef8-26e55b24be50",
   "metadata": {},
   "outputs": [
    {
     "name": "stdout",
     "output_type": "stream",
     "text": [
      "Index(['job', 'marital', 'education', 'default', 'housing', 'loan', 'contact',\n",
      "       'month', 'poutcome', 'senior_ind', 'age_group', 'segment',\n",
      "       'age_balance_group', 'pdays_category'],\n",
      "      dtype='object')\n"
     ]
    },
    {
     "data": {
      "text/html": [
       "<div>\n",
       "<style scoped>\n",
       "    .dataframe tbody tr th:only-of-type {\n",
       "        vertical-align: middle;\n",
       "    }\n",
       "\n",
       "    .dataframe tbody tr th {\n",
       "        vertical-align: top;\n",
       "    }\n",
       "\n",
       "    .dataframe thead th {\n",
       "        text-align: right;\n",
       "    }\n",
       "</style>\n",
       "<table border=\"1\" class=\"dataframe\">\n",
       "  <thead>\n",
       "    <tr style=\"text-align: right;\">\n",
       "      <th></th>\n",
       "      <th>age</th>\n",
       "      <th>balance</th>\n",
       "      <th>day</th>\n",
       "      <th>campaign</th>\n",
       "      <th>previous</th>\n",
       "      <th>job_admin.</th>\n",
       "      <th>job_blue-collar</th>\n",
       "      <th>job_entrepreneur</th>\n",
       "      <th>job_housemaid</th>\n",
       "      <th>job_management</th>\n",
       "      <th>job_retired</th>\n",
       "      <th>job_self-employed</th>\n",
       "      <th>job_services</th>\n",
       "      <th>job_student</th>\n",
       "      <th>job_technician</th>\n",
       "      <th>job_unemployed</th>\n",
       "      <th>job_unknown</th>\n",
       "      <th>marital_divorced</th>\n",
       "      <th>marital_married</th>\n",
       "      <th>marital_single</th>\n",
       "      <th>education_primary</th>\n",
       "      <th>education_secondary</th>\n",
       "      <th>education_tertiary</th>\n",
       "      <th>education_unknown</th>\n",
       "      <th>default_no</th>\n",
       "      <th>default_yes</th>\n",
       "      <th>housing_no</th>\n",
       "      <th>housing_yes</th>\n",
       "      <th>loan_no</th>\n",
       "      <th>loan_yes</th>\n",
       "      <th>contact_cellular</th>\n",
       "      <th>contact_telephone</th>\n",
       "      <th>contact_unknown</th>\n",
       "      <th>month_apr</th>\n",
       "      <th>month_aug</th>\n",
       "      <th>month_dec</th>\n",
       "      <th>month_feb</th>\n",
       "      <th>month_jan</th>\n",
       "      <th>month_jul</th>\n",
       "      <th>month_jun</th>\n",
       "      <th>month_mar</th>\n",
       "      <th>month_may</th>\n",
       "      <th>month_nov</th>\n",
       "      <th>month_oct</th>\n",
       "      <th>month_sep</th>\n",
       "      <th>poutcome_failure</th>\n",
       "      <th>poutcome_other</th>\n",
       "      <th>poutcome_success</th>\n",
       "      <th>poutcome_unknown</th>\n",
       "      <th>senior_ind_non-senior</th>\n",
       "      <th>senior_ind_senior</th>\n",
       "      <th>age_group_children</th>\n",
       "      <th>age_group_senior</th>\n",
       "      <th>age_group_young_adult</th>\n",
       "      <th>segment_other</th>\n",
       "      <th>segment_senior</th>\n",
       "      <th>age_balance_group_other</th>\n",
       "      <th>age_balance_group_senior</th>\n",
       "      <th>age_balance_group_young_high_balance</th>\n",
       "      <th>pdays_category_300일 이내</th>\n",
       "      <th>pdays_category_300일 이상</th>\n",
       "      <th>pdays_category_&lt;100일 이내</th>\n",
       "      <th>pdays_category_&lt;200일 이내</th>\n",
       "      <th>pdays_category_연락_X</th>\n",
       "    </tr>\n",
       "  </thead>\n",
       "  <tbody>\n",
       "    <tr>\n",
       "      <th>0</th>\n",
       "      <td>58</td>\n",
       "      <td>2143</td>\n",
       "      <td>5</td>\n",
       "      <td>1</td>\n",
       "      <td>0</td>\n",
       "      <td>0</td>\n",
       "      <td>0</td>\n",
       "      <td>0</td>\n",
       "      <td>0</td>\n",
       "      <td>1</td>\n",
       "      <td>0</td>\n",
       "      <td>0</td>\n",
       "      <td>0</td>\n",
       "      <td>0</td>\n",
       "      <td>0</td>\n",
       "      <td>0</td>\n",
       "      <td>0</td>\n",
       "      <td>0</td>\n",
       "      <td>1</td>\n",
       "      <td>0</td>\n",
       "      <td>0</td>\n",
       "      <td>0</td>\n",
       "      <td>1</td>\n",
       "      <td>0</td>\n",
       "      <td>1</td>\n",
       "      <td>0</td>\n",
       "      <td>0</td>\n",
       "      <td>1</td>\n",
       "      <td>1</td>\n",
       "      <td>0</td>\n",
       "      <td>0</td>\n",
       "      <td>0</td>\n",
       "      <td>1</td>\n",
       "      <td>0</td>\n",
       "      <td>0</td>\n",
       "      <td>0</td>\n",
       "      <td>0</td>\n",
       "      <td>0</td>\n",
       "      <td>0</td>\n",
       "      <td>0</td>\n",
       "      <td>0</td>\n",
       "      <td>1</td>\n",
       "      <td>0</td>\n",
       "      <td>0</td>\n",
       "      <td>0</td>\n",
       "      <td>0</td>\n",
       "      <td>0</td>\n",
       "      <td>0</td>\n",
       "      <td>1</td>\n",
       "      <td>1</td>\n",
       "      <td>0</td>\n",
       "      <td>0</td>\n",
       "      <td>0</td>\n",
       "      <td>1</td>\n",
       "      <td>1</td>\n",
       "      <td>0</td>\n",
       "      <td>1</td>\n",
       "      <td>0</td>\n",
       "      <td>0</td>\n",
       "      <td>0</td>\n",
       "      <td>0</td>\n",
       "      <td>0</td>\n",
       "      <td>0</td>\n",
       "      <td>1</td>\n",
       "    </tr>\n",
       "    <tr>\n",
       "      <th>1</th>\n",
       "      <td>44</td>\n",
       "      <td>29</td>\n",
       "      <td>5</td>\n",
       "      <td>1</td>\n",
       "      <td>0</td>\n",
       "      <td>0</td>\n",
       "      <td>0</td>\n",
       "      <td>0</td>\n",
       "      <td>0</td>\n",
       "      <td>0</td>\n",
       "      <td>0</td>\n",
       "      <td>0</td>\n",
       "      <td>0</td>\n",
       "      <td>0</td>\n",
       "      <td>1</td>\n",
       "      <td>0</td>\n",
       "      <td>0</td>\n",
       "      <td>0</td>\n",
       "      <td>0</td>\n",
       "      <td>1</td>\n",
       "      <td>0</td>\n",
       "      <td>1</td>\n",
       "      <td>0</td>\n",
       "      <td>0</td>\n",
       "      <td>1</td>\n",
       "      <td>0</td>\n",
       "      <td>0</td>\n",
       "      <td>1</td>\n",
       "      <td>1</td>\n",
       "      <td>0</td>\n",
       "      <td>0</td>\n",
       "      <td>0</td>\n",
       "      <td>1</td>\n",
       "      <td>0</td>\n",
       "      <td>0</td>\n",
       "      <td>0</td>\n",
       "      <td>0</td>\n",
       "      <td>0</td>\n",
       "      <td>0</td>\n",
       "      <td>0</td>\n",
       "      <td>0</td>\n",
       "      <td>1</td>\n",
       "      <td>0</td>\n",
       "      <td>0</td>\n",
       "      <td>0</td>\n",
       "      <td>0</td>\n",
       "      <td>0</td>\n",
       "      <td>0</td>\n",
       "      <td>1</td>\n",
       "      <td>1</td>\n",
       "      <td>0</td>\n",
       "      <td>0</td>\n",
       "      <td>0</td>\n",
       "      <td>1</td>\n",
       "      <td>1</td>\n",
       "      <td>0</td>\n",
       "      <td>1</td>\n",
       "      <td>0</td>\n",
       "      <td>0</td>\n",
       "      <td>0</td>\n",
       "      <td>0</td>\n",
       "      <td>0</td>\n",
       "      <td>0</td>\n",
       "      <td>1</td>\n",
       "    </tr>\n",
       "    <tr>\n",
       "      <th>2</th>\n",
       "      <td>33</td>\n",
       "      <td>2</td>\n",
       "      <td>5</td>\n",
       "      <td>1</td>\n",
       "      <td>0</td>\n",
       "      <td>0</td>\n",
       "      <td>0</td>\n",
       "      <td>1</td>\n",
       "      <td>0</td>\n",
       "      <td>0</td>\n",
       "      <td>0</td>\n",
       "      <td>0</td>\n",
       "      <td>0</td>\n",
       "      <td>0</td>\n",
       "      <td>0</td>\n",
       "      <td>0</td>\n",
       "      <td>0</td>\n",
       "      <td>0</td>\n",
       "      <td>1</td>\n",
       "      <td>0</td>\n",
       "      <td>0</td>\n",
       "      <td>1</td>\n",
       "      <td>0</td>\n",
       "      <td>0</td>\n",
       "      <td>1</td>\n",
       "      <td>0</td>\n",
       "      <td>0</td>\n",
       "      <td>1</td>\n",
       "      <td>0</td>\n",
       "      <td>1</td>\n",
       "      <td>0</td>\n",
       "      <td>0</td>\n",
       "      <td>1</td>\n",
       "      <td>0</td>\n",
       "      <td>0</td>\n",
       "      <td>0</td>\n",
       "      <td>0</td>\n",
       "      <td>0</td>\n",
       "      <td>0</td>\n",
       "      <td>0</td>\n",
       "      <td>0</td>\n",
       "      <td>1</td>\n",
       "      <td>0</td>\n",
       "      <td>0</td>\n",
       "      <td>0</td>\n",
       "      <td>0</td>\n",
       "      <td>0</td>\n",
       "      <td>0</td>\n",
       "      <td>1</td>\n",
       "      <td>1</td>\n",
       "      <td>0</td>\n",
       "      <td>0</td>\n",
       "      <td>0</td>\n",
       "      <td>1</td>\n",
       "      <td>1</td>\n",
       "      <td>0</td>\n",
       "      <td>1</td>\n",
       "      <td>0</td>\n",
       "      <td>0</td>\n",
       "      <td>0</td>\n",
       "      <td>0</td>\n",
       "      <td>0</td>\n",
       "      <td>0</td>\n",
       "      <td>1</td>\n",
       "    </tr>\n",
       "    <tr>\n",
       "      <th>3</th>\n",
       "      <td>47</td>\n",
       "      <td>1506</td>\n",
       "      <td>5</td>\n",
       "      <td>1</td>\n",
       "      <td>0</td>\n",
       "      <td>0</td>\n",
       "      <td>1</td>\n",
       "      <td>0</td>\n",
       "      <td>0</td>\n",
       "      <td>0</td>\n",
       "      <td>0</td>\n",
       "      <td>0</td>\n",
       "      <td>0</td>\n",
       "      <td>0</td>\n",
       "      <td>0</td>\n",
       "      <td>0</td>\n",
       "      <td>0</td>\n",
       "      <td>0</td>\n",
       "      <td>1</td>\n",
       "      <td>0</td>\n",
       "      <td>0</td>\n",
       "      <td>0</td>\n",
       "      <td>0</td>\n",
       "      <td>1</td>\n",
       "      <td>1</td>\n",
       "      <td>0</td>\n",
       "      <td>0</td>\n",
       "      <td>1</td>\n",
       "      <td>1</td>\n",
       "      <td>0</td>\n",
       "      <td>0</td>\n",
       "      <td>0</td>\n",
       "      <td>1</td>\n",
       "      <td>0</td>\n",
       "      <td>0</td>\n",
       "      <td>0</td>\n",
       "      <td>0</td>\n",
       "      <td>0</td>\n",
       "      <td>0</td>\n",
       "      <td>0</td>\n",
       "      <td>0</td>\n",
       "      <td>1</td>\n",
       "      <td>0</td>\n",
       "      <td>0</td>\n",
       "      <td>0</td>\n",
       "      <td>0</td>\n",
       "      <td>0</td>\n",
       "      <td>0</td>\n",
       "      <td>1</td>\n",
       "      <td>1</td>\n",
       "      <td>0</td>\n",
       "      <td>0</td>\n",
       "      <td>0</td>\n",
       "      <td>1</td>\n",
       "      <td>1</td>\n",
       "      <td>0</td>\n",
       "      <td>1</td>\n",
       "      <td>0</td>\n",
       "      <td>0</td>\n",
       "      <td>0</td>\n",
       "      <td>0</td>\n",
       "      <td>0</td>\n",
       "      <td>0</td>\n",
       "      <td>1</td>\n",
       "    </tr>\n",
       "    <tr>\n",
       "      <th>4</th>\n",
       "      <td>33</td>\n",
       "      <td>1</td>\n",
       "      <td>5</td>\n",
       "      <td>1</td>\n",
       "      <td>0</td>\n",
       "      <td>0</td>\n",
       "      <td>0</td>\n",
       "      <td>0</td>\n",
       "      <td>0</td>\n",
       "      <td>0</td>\n",
       "      <td>0</td>\n",
       "      <td>0</td>\n",
       "      <td>0</td>\n",
       "      <td>0</td>\n",
       "      <td>0</td>\n",
       "      <td>0</td>\n",
       "      <td>1</td>\n",
       "      <td>0</td>\n",
       "      <td>0</td>\n",
       "      <td>1</td>\n",
       "      <td>0</td>\n",
       "      <td>0</td>\n",
       "      <td>0</td>\n",
       "      <td>1</td>\n",
       "      <td>1</td>\n",
       "      <td>0</td>\n",
       "      <td>1</td>\n",
       "      <td>0</td>\n",
       "      <td>1</td>\n",
       "      <td>0</td>\n",
       "      <td>0</td>\n",
       "      <td>0</td>\n",
       "      <td>1</td>\n",
       "      <td>0</td>\n",
       "      <td>0</td>\n",
       "      <td>0</td>\n",
       "      <td>0</td>\n",
       "      <td>0</td>\n",
       "      <td>0</td>\n",
       "      <td>0</td>\n",
       "      <td>0</td>\n",
       "      <td>1</td>\n",
       "      <td>0</td>\n",
       "      <td>0</td>\n",
       "      <td>0</td>\n",
       "      <td>0</td>\n",
       "      <td>0</td>\n",
       "      <td>0</td>\n",
       "      <td>1</td>\n",
       "      <td>1</td>\n",
       "      <td>0</td>\n",
       "      <td>0</td>\n",
       "      <td>0</td>\n",
       "      <td>1</td>\n",
       "      <td>1</td>\n",
       "      <td>0</td>\n",
       "      <td>1</td>\n",
       "      <td>0</td>\n",
       "      <td>0</td>\n",
       "      <td>0</td>\n",
       "      <td>0</td>\n",
       "      <td>0</td>\n",
       "      <td>0</td>\n",
       "      <td>1</td>\n",
       "    </tr>\n",
       "  </tbody>\n",
       "</table>\n",
       "</div>"
      ],
      "text/plain": [
       "   age  balance  day  campaign  previous  job_admin.  job_blue-collar  \\\n",
       "0   58     2143    5         1         0           0                0   \n",
       "1   44       29    5         1         0           0                0   \n",
       "2   33        2    5         1         0           0                0   \n",
       "3   47     1506    5         1         0           0                1   \n",
       "4   33        1    5         1         0           0                0   \n",
       "\n",
       "   job_entrepreneur  job_housemaid  job_management  job_retired  \\\n",
       "0                 0              0               1            0   \n",
       "1                 0              0               0            0   \n",
       "2                 1              0               0            0   \n",
       "3                 0              0               0            0   \n",
       "4                 0              0               0            0   \n",
       "\n",
       "   job_self-employed  job_services  job_student  job_technician  \\\n",
       "0                  0             0            0               0   \n",
       "1                  0             0            0               1   \n",
       "2                  0             0            0               0   \n",
       "3                  0             0            0               0   \n",
       "4                  0             0            0               0   \n",
       "\n",
       "   job_unemployed  job_unknown  marital_divorced  marital_married  \\\n",
       "0               0            0                 0                1   \n",
       "1               0            0                 0                0   \n",
       "2               0            0                 0                1   \n",
       "3               0            0                 0                1   \n",
       "4               0            1                 0                0   \n",
       "\n",
       "   marital_single  education_primary  education_secondary  education_tertiary  \\\n",
       "0               0                  0                    0                   1   \n",
       "1               1                  0                    1                   0   \n",
       "2               0                  0                    1                   0   \n",
       "3               0                  0                    0                   0   \n",
       "4               1                  0                    0                   0   \n",
       "\n",
       "   education_unknown  default_no  default_yes  housing_no  housing_yes  \\\n",
       "0                  0           1            0           0            1   \n",
       "1                  0           1            0           0            1   \n",
       "2                  0           1            0           0            1   \n",
       "3                  1           1            0           0            1   \n",
       "4                  1           1            0           1            0   \n",
       "\n",
       "   loan_no  loan_yes  contact_cellular  contact_telephone  contact_unknown  \\\n",
       "0        1         0                 0                  0                1   \n",
       "1        1         0                 0                  0                1   \n",
       "2        0         1                 0                  0                1   \n",
       "3        1         0                 0                  0                1   \n",
       "4        1         0                 0                  0                1   \n",
       "\n",
       "   month_apr  month_aug  month_dec  month_feb  month_jan  month_jul  \\\n",
       "0          0          0          0          0          0          0   \n",
       "1          0          0          0          0          0          0   \n",
       "2          0          0          0          0          0          0   \n",
       "3          0          0          0          0          0          0   \n",
       "4          0          0          0          0          0          0   \n",
       "\n",
       "   month_jun  month_mar  month_may  month_nov  month_oct  month_sep  \\\n",
       "0          0          0          1          0          0          0   \n",
       "1          0          0          1          0          0          0   \n",
       "2          0          0          1          0          0          0   \n",
       "3          0          0          1          0          0          0   \n",
       "4          0          0          1          0          0          0   \n",
       "\n",
       "   poutcome_failure  poutcome_other  poutcome_success  poutcome_unknown  \\\n",
       "0                 0               0                 0                 1   \n",
       "1                 0               0                 0                 1   \n",
       "2                 0               0                 0                 1   \n",
       "3                 0               0                 0                 1   \n",
       "4                 0               0                 0                 1   \n",
       "\n",
       "   senior_ind_non-senior  senior_ind_senior  age_group_children  \\\n",
       "0                      1                  0                   0   \n",
       "1                      1                  0                   0   \n",
       "2                      1                  0                   0   \n",
       "3                      1                  0                   0   \n",
       "4                      1                  0                   0   \n",
       "\n",
       "   age_group_senior  age_group_young_adult  segment_other  segment_senior  \\\n",
       "0                 0                      1              1               0   \n",
       "1                 0                      1              1               0   \n",
       "2                 0                      1              1               0   \n",
       "3                 0                      1              1               0   \n",
       "4                 0                      1              1               0   \n",
       "\n",
       "   age_balance_group_other  age_balance_group_senior  \\\n",
       "0                        1                         0   \n",
       "1                        1                         0   \n",
       "2                        1                         0   \n",
       "3                        1                         0   \n",
       "4                        1                         0   \n",
       "\n",
       "   age_balance_group_young_high_balance  pdays_category_300일 이내  \\\n",
       "0                                     0                       0   \n",
       "1                                     0                       0   \n",
       "2                                     0                       0   \n",
       "3                                     0                       0   \n",
       "4                                     0                       0   \n",
       "\n",
       "   pdays_category_300일 이상  pdays_category_<100일 이내  pdays_category_<200일 이내  \\\n",
       "0                       0                        0                        0   \n",
       "1                       0                        0                        0   \n",
       "2                       0                        0                        0   \n",
       "3                       0                        0                        0   \n",
       "4                       0                        0                        0   \n",
       "\n",
       "   pdays_category_연락_X  \n",
       "0                    1  \n",
       "1                    1  \n",
       "2                    1  \n",
       "3                    1  \n",
       "4                    1  "
      ]
     },
     "execution_count": 126,
     "metadata": {},
     "output_type": "execute_result"
    }
   ],
   "source": [
    "# One Hot Encode Categorical Features \n",
    "categorical_features = X.select_dtypes(include='object').columns # List of Categorical Features Column Name\n",
    "print(categorical_features)\n",
    "\n",
    "# return original df with now One hot encoded categorical feature columns\n",
    "X = pd.get_dummies(X, columns=categorical_features, dtype='int') # 이때, dtype='int' 통해 boolean 형태 대신 0, 1의 숫자형으로 반환도 가능 \n",
    "X.head()\n"
   ]
  },
  {
   "cell_type": "markdown",
   "id": "dd0d4d4d-bacf-4c03-a270-03e492047328",
   "metadata": {
    "jp-MarkdownHeadingCollapsed": true
   },
   "source": [
    "#### Initial Model"
   ]
  },
  {
   "cell_type": "code",
   "execution_count": 148,
   "id": "d2664bb9-7b06-4212-8ad2-a5ab7d4d9c47",
   "metadata": {},
   "outputs": [
    {
     "name": "stdout",
     "output_type": "stream",
     "text": [
      "(31636, 64)\n",
      "(13559, 64)\n",
      "(31636,)\n",
      "(13559,)\n"
     ]
    }
   ],
   "source": [
    "# Train/Test Data Split\n",
    "from sklearn.model_selection import train_test_split\n",
    "X_train, X_test, y_train, y_test = train_test_split(X, y, test_size = 0.3, random_state = 42)\n",
    "\n",
    "print(X_train.shape)\n",
    "print(X_test.shape)\n",
    "print(y_train.shape)\n",
    "print(y_test.shape)"
   ]
  },
  {
   "cell_type": "code",
   "execution_count": 149,
   "id": "1b46f2b1-3b19-4168-a71f-0f3b5f77d461",
   "metadata": {},
   "outputs": [],
   "source": [
    "from sklearn.ensemble import RandomForestClassifier\n",
    "model = RandomForestClassifier(n_estimators=100, max_depth=10, random_state=42)\n",
    "model.fit(X_train, y_train)\n",
    "y_pred_test = model.predict(X_test)"
   ]
  },
  {
   "cell_type": "code",
   "execution_count": 150,
   "id": "bce97436-6aa5-4eff-abc0-7cfa1d8c0e10",
   "metadata": {},
   "outputs": [
    {
     "data": {
      "text/plain": [
       "0.8938712294416993"
      ]
     },
     "execution_count": 150,
     "metadata": {},
     "output_type": "execute_result"
    }
   ],
   "source": [
    "# Model Accuracy = 전체 데이터 중 실제 값으로 올바르게 예측된 데이터의 비율 (same as 'accuracy' from the classification_report) below\n",
    "model.score(X_test, y_test)"
   ]
  },
  {
   "cell_type": "code",
   "execution_count": 154,
   "id": "29c5fa34-6fdf-450e-af75-fe92d9127413",
   "metadata": {},
   "outputs": [
    {
     "name": "stdout",
     "output_type": "stream",
     "text": [
      "              precision    recall  f1-score   support\n",
      "\n",
      "           0       0.90      0.99      0.94     11944\n",
      "           1       0.73      0.17      0.28      1615\n",
      "\n",
      "    accuracy                           0.89     13559\n",
      "   macro avg       0.82      0.58      0.61     13559\n",
      "weighted avg       0.88      0.89      0.86     13559\n",
      "\n"
     ]
    }
   ],
   "source": [
    "from sklearn.metrics import classification_report\n",
    "print(classification_report(y_test, y_pred_test))"
   ]
  },
  {
   "cell_type": "markdown",
   "id": "f5e0a000-ef6e-477e-95b3-72a2bc86b155",
   "metadata": {},
   "source": [
    "[classification_report 읽는 법]\n",
    "\n",
    "클래스 0은 정기예금 비가입자를 의미하며, 클래스 1은 정기예금 가입자를 의미합니다.\n",
    "\n",
    "precision: 모델이 True로 분류한 데이터 중 실제로 True인 데이터의 비율입니다. 클래스 0의 경우 90%, 클래스 1의 경우 73%로, 이는 모델의 클래스 0에 대한 예측력이 클래스 1보다 높음을 의미합니다.\n",
    "\n",
    "recall: 실제로 True에 속한 데이터 중 모델이 True로 분류한 데이터의 비율입니다. 클래스 0의 경우 99%, 클래스 1의 경우 17%로, 클래스 0은 precision보다 recall이, 클래스 1은 반대로 recall보다 precision이 높게 나타나고 있습니다. **실제로는 0인데 모델이 1로 분류하는 데이터보다 실제로는 1인데 모델이 0으로 분류하는 데이터가 많기 때문에 이런 현상이 나타나는 것으로 보입니다.**\n",
    "\n",
    "참고로 support는 해당 클래스에 속하는 실제 데이터의 수를 의미합니다. 이를 보면 실제로 0에 속하는 데이터가 훨씬 많기 때문에, 모델이 '애매할 때는 0으로 분류하는 편이 정답 확률이 높다'고 인식하고 1보다는 0이라는 예측값을 더 자주 부여하고 있는 것이라 추측해 볼 수 있습니다.\n",
    "\n",
    "f1-score: precision과 recall의 조화 평균으로, 두 값을 균형 있게 반영한 점수입니다. 클래스 0의 경우 94%, 클래스 1의 경우 28%로, 모델이 클래스 0은 비교적 정확하게 예측하고 있으나 클래스 1의 예측에는 어려움을 겪고 있다고 해석할 수 있습니다.\n",
    "\n",
    "accuracy: 전체 데이터 중 실제 값으로 올바르게 예측된 데이터의 비율입니다. 본 모델은 전체 데이터의 89%가 정확하게 예측되었으나, 사실 이 데이터셋은 y값의 불균형이 크기 때문에(= 클래스 0이 훨씬 많기 때문에) accuracy만으로 모델의 성능을 평가하기보다는 각 클래스별 f1-score를 함께 고려하는 편이 좋습니다.\n",
    "\n",
    "macro avg, weighted_avg: macro avg는 위의 클래스별 값을 단순 평균 낸 개념이며, weighted avg는 각 클래스에 속하는 데이터의 개수를 반영해 가중 평균을 낸 개념입니다."
   ]
  },
  {
   "cell_type": "markdown",
   "id": "a570728e-bdee-492c-9c04-d00953b75be8",
   "metadata": {},
   "source": [
    "그렇다면 더 나은 성능의 모델을 만들기 위해 더 적절한 파라미터를 찾을 수 있을까?\n",
    "→ Yes. We can use GridSearchCV to systematically search for the best parameter values."
   ]
  },
  {
   "cell_type": "code",
   "execution_count": 157,
   "id": "a4e64756-01af-44d5-94a5-9c0790800a5f",
   "metadata": {},
   "outputs": [
    {
     "name": "stdout",
     "output_type": "stream",
     "text": [
      "찾아낸 최적의 파라미터:  {'class_weight': 'balanced', 'max_depth': 10, 'n_estimators': 200}\n"
     ]
    }
   ],
   "source": [
    "# Searching for best Parameters \n",
    "from sklearn.model_selection import GridSearchCV\n",
    "\n",
    "\n",
    "# 그리드 서치를 통해 테스트해 보고 싶은 하이퍼파라미터를 dictionary 형태로 적어 줍니다.\n",
    "hyper_parameter = {\n",
    "    'n_estimators': [100, 200],  # 생성할 Tree의 수를 의미합니다.\n",
    "    'max_depth': [None, 10, 20],  # Tree의 최대 깊이를 의미합니다.\n",
    "    'class_weight': [None, 'balanced', 'balanced_subsample']  # 클래스별 가중치를 줄 것인지를 의미합니다.\n",
    "}\n",
    "\n",
    "model = RandomForestClassifier()  # 우선, 하이퍼파라미터를 설정하지 않은 모델을 만들어 줍니다.\n",
    "\n",
    "grid_search = GridSearchCV(estimator=model, param_grid=hyper_parameter,\n",
    "                           scoring='f1',  # 최선의 조합을 찾을 때 어떤 지표를 기준으로 삼느냐를 의미합니다. 여기에서는 'f1'을 기준으로 삼겠다고 명시했습니다.\n",
    "                           cv=3)  # 교차 검증(cross validation)을 몇 겹으로 할지를 의미합니다. cv=3이면 3겹 교차검증을 하겠다는 의미입니다.\n",
    "\n",
    "\n",
    "grid_search.fit(X_train, y_train)\n",
    "print(\"찾아낸 최적의 파라미터: \", grid_search.best_params_)  # 찾아낸 최선의 조합을 출력합니다."
   ]
  },
  {
   "cell_type": "markdown",
   "id": "2cee359a-4b0b-4b4c-b2e0-9073e0da0473",
   "metadata": {
    "jp-MarkdownHeadingCollapsed": true
   },
   "source": [
    "#### Rerun the Model with the found Best Parameters \n"
   ]
  },
  {
   "cell_type": "code",
   "execution_count": 162,
   "id": "da259d11-15e2-481d-82b7-48097f264188",
   "metadata": {},
   "outputs": [],
   "source": [
    "# 찾아낸 최적의 파라미터:  {'class_weight': 'balanced', 'max_depth': 10, 'n_estimators': 200}\n",
    "model = RandomForestClassifier(n_estimators=200, max_depth=10, class_weight='balanced') # In this case 'balanced' makes sense because the sample size for each class is imbalanced\n",
    "model.fit(X_train, y_train)\n",
    "y_test_preidcted = model.predict(X_test)"
   ]
  },
  {
   "cell_type": "code",
   "execution_count": 164,
   "id": "155ca41d-1dee-4ba7-9cb4-c607945f3131",
   "metadata": {},
   "outputs": [
    {
     "name": "stdout",
     "output_type": "stream",
     "text": [
      "              precision    recall  f1-score   support\n",
      "\n",
      "           0       0.90      0.99      0.94     11944\n",
      "           1       0.73      0.17      0.28      1615\n",
      "\n",
      "    accuracy                           0.89     13559\n",
      "   macro avg       0.82      0.58      0.61     13559\n",
      "weighted avg       0.88      0.89      0.86     13559\n",
      "\n"
     ]
    }
   ],
   "source": [
    "from sklearn.metrics import classification_report\n",
    "print(classification_report(y_test, y_pred_test))"
   ]
  },
  {
   "cell_type": "code",
   "execution_count": 163,
   "id": "458c1b60-05de-4096-b44c-24f5f8a98fc5",
   "metadata": {},
   "outputs": [
    {
     "name": "stdout",
     "output_type": "stream",
     "text": [
      "              precision    recall  f1-score   support\n",
      "\n",
      "           0       0.94      0.86      0.90     11944\n",
      "           1       0.35      0.58      0.44      1615\n",
      "\n",
      "    accuracy                           0.82     13559\n",
      "   macro avg       0.65      0.72      0.67     13559\n",
      "weighted avg       0.87      0.82      0.84     13559\n",
      "\n"
     ]
    }
   ],
   "source": [
    "# Model Performance of the new model\n",
    "print(classification_report(y_test, y_test_preidcted))"
   ]
  },
  {
   "cell_type": "markdown",
   "id": "77f6d241-e3af-4dcf-9238-8b535c3fa6a8",
   "metadata": {},
   "source": [
    "클래스 1에 recall/f1 score은 올라갔으나 반대로 precision 과 클래스 0에 대한 score 들이 떨어졌습니다.\n",
    "\n",
    "🟢 Model 1:\n",
    "- High overall accuracy and weighted F1 — but only because it mostly predicts class 0 correctly.\n",
    "- Terrible performance on class 1 (only 17% recall) — it misses most positives.\n",
    "- If class 1 is rare but important (e.g., fraud detection, churn, disease), this model is bad.\n",
    "\n",
    "🟡 Model 2:\n",
    "- Lower overall accuracy (because it makes more mistakes on the majority class 0).\n",
    "- But it performs much better on class 1, with:\n",
    "- Recall of 0.58 (vs. 0.17)\n",
    "- F1 of 0.44 (vs. 0.28)\n",
    "- If detecting class 1 is important, Model 2 is clearly better.\n",
    "\n",
    "\n",
    "\n",
    "In real-world problems where you're trying to detect something rare and important like\n",
    "\n",
    "- customers likely to churn\n",
    "- fraud or security breaches\n",
    "- rare but costly behaviors\n",
    "\n",
    "you care more about class 1 recall and F1 than accuracy.\n",
    "\n",
    "**So Model 2 is the better model, unless you explicitly care more about class 0.**\n",
    "\n",
    "\n",
    "\n",
    "더 나은 모델을 만들기 위해서는 아래와 같은 방법을 검토해 볼 수 있습니다. 본 파일은 예시이기 때문에 모델을 튜닝해 가는 과정을 자세하게 담고 있지는 않지만, 실전 모델링에서는 다양한 방법을 검토해 최고의 성능을 갖는 모델을 만들어 나가시기 바랍니다.\n",
    "\n",
    "1. Random Forest 외의 다른 분류 모델을 활용\n",
    "2. 추가적인 하이퍼파라미터 튜닝\n",
    "3. 입력 변수의 조정"
   ]
  },
  {
   "cell_type": "markdown",
   "id": "3c8ba87d-f7d7-43bf-8f92-ccc91055c44a",
   "metadata": {
    "jp-MarkdownHeadingCollapsed": true
   },
   "source": [
    "#### Feature Importance "
   ]
  },
  {
   "cell_type": "code",
   "execution_count": 185,
   "id": "3addf834-0791-4686-994d-419fbd6bbcc7",
   "metadata": {},
   "outputs": [
    {
     "data": {
      "text/html": [
       "<div>\n",
       "<style scoped>\n",
       "    .dataframe tbody tr th:only-of-type {\n",
       "        vertical-align: middle;\n",
       "    }\n",
       "\n",
       "    .dataframe tbody tr th {\n",
       "        vertical-align: top;\n",
       "    }\n",
       "\n",
       "    .dataframe thead th {\n",
       "        text-align: right;\n",
       "    }\n",
       "</style>\n",
       "<table border=\"1\" class=\"dataframe\">\n",
       "  <thead>\n",
       "    <tr style=\"text-align: right;\">\n",
       "      <th></th>\n",
       "      <th>importance</th>\n",
       "      <th>features</th>\n",
       "    </tr>\n",
       "  </thead>\n",
       "  <tbody>\n",
       "    <tr>\n",
       "      <th>47</th>\n",
       "      <td>0.108179</td>\n",
       "      <td>poutcome_success</td>\n",
       "    </tr>\n",
       "    <tr>\n",
       "      <th>32</th>\n",
       "      <td>0.072534</td>\n",
       "      <td>contact_unknown</td>\n",
       "    </tr>\n",
       "    <tr>\n",
       "      <th>1</th>\n",
       "      <td>0.059617</td>\n",
       "      <td>balance</td>\n",
       "    </tr>\n",
       "    <tr>\n",
       "      <th>30</th>\n",
       "      <td>0.051342</td>\n",
       "      <td>contact_cellular</td>\n",
       "    </tr>\n",
       "    <tr>\n",
       "      <th>0</th>\n",
       "      <td>0.049134</td>\n",
       "      <td>age</td>\n",
       "    </tr>\n",
       "    <tr>\n",
       "      <th>27</th>\n",
       "      <td>0.044337</td>\n",
       "      <td>housing_yes</td>\n",
       "    </tr>\n",
       "    <tr>\n",
       "      <th>4</th>\n",
       "      <td>0.043831</td>\n",
       "      <td>previous</td>\n",
       "    </tr>\n",
       "    <tr>\n",
       "      <th>2</th>\n",
       "      <td>0.043749</td>\n",
       "      <td>day</td>\n",
       "    </tr>\n",
       "    <tr>\n",
       "      <th>26</th>\n",
       "      <td>0.042146</td>\n",
       "      <td>housing_no</td>\n",
       "    </tr>\n",
       "    <tr>\n",
       "      <th>63</th>\n",
       "      <td>0.035759</td>\n",
       "      <td>pdays_category_연락_X</td>\n",
       "    </tr>\n",
       "  </tbody>\n",
       "</table>\n",
       "</div>"
      ],
      "text/plain": [
       "    importance             features\n",
       "47    0.108179     poutcome_success\n",
       "32    0.072534      contact_unknown\n",
       "1     0.059617              balance\n",
       "30    0.051342     contact_cellular\n",
       "0     0.049134                  age\n",
       "27    0.044337          housing_yes\n",
       "4     0.043831             previous\n",
       "2     0.043749                  day\n",
       "26    0.042146           housing_no\n",
       "63    0.035759  pdays_category_연락_X"
      ]
     },
     "execution_count": 185,
     "metadata": {},
     "output_type": "execute_result"
    }
   ],
   "source": [
    "ftr_imp_values = model.feature_importances_\n",
    "# ftr_importances = pd.Series(ftr_imp_values, index=X_train.columns)\n",
    "# ftr_top10 = ftr_importances.sort_values(ascending=False)[:10]  # 중요도 순서대로 top 10 변수를 추출합니다.\n",
    "\n",
    "# or if want to put it in a dataframe:  \n",
    "ftr_importances = pd.DataFrame({'importance': ftr_imp_values, 'features': X_train.columns})\n",
    "ftr_top10 = ftr_importances.sort_values(by='importance', ascending=False)[:10]  # 중요도 순서대로 top 10 변수를 추출합니다.\n",
    "\n",
    "ftr_top10"
   ]
  },
  {
   "cell_type": "code",
   "execution_count": 186,
   "id": "adb5b6c0-c49f-4185-a5c9-8b9db316e038",
   "metadata": {},
   "outputs": [
    {
     "name": "stderr",
     "output_type": "stream",
     "text": [
      "/var/folders/wd/k8bhnlr94jb3l5fvbl852pph0000gn/T/ipykernel_31310/3582416288.py:4: FutureWarning: \n",
      "\n",
      "Passing `palette` without assigning `hue` is deprecated and will be removed in v0.14.0. Assign the `y` variable to `hue` and set `legend=False` for the same effect.\n",
      "\n",
      "  sns.barplot(x=ftr_top10['importance'], y=ftr_top10['features'], palette='Blues_r');\n",
      "/opt/anaconda3/lib/python3.12/site-packages/IPython/core/events.py:82: UserWarning: Glyph 50672 (\\N{HANGUL SYLLABLE YEON}) missing from font(s) DejaVu Sans.\n",
      "  func(*args, **kwargs)\n",
      "/opt/anaconda3/lib/python3.12/site-packages/IPython/core/events.py:82: UserWarning: Glyph 46973 (\\N{HANGUL SYLLABLE RAG}) missing from font(s) DejaVu Sans.\n",
      "  func(*args, **kwargs)\n",
      "/opt/anaconda3/lib/python3.12/site-packages/IPython/core/pylabtools.py:170: UserWarning: Glyph 50672 (\\N{HANGUL SYLLABLE YEON}) missing from font(s) DejaVu Sans.\n",
      "  fig.canvas.print_figure(bytes_io, **kw)\n",
      "/opt/anaconda3/lib/python3.12/site-packages/IPython/core/pylabtools.py:170: UserWarning: Glyph 46973 (\\N{HANGUL SYLLABLE RAG}) missing from font(s) DejaVu Sans.\n",
      "  fig.canvas.print_figure(bytes_io, **kw)\n"
     ]
    },
    {
     "data": {
      "image/png": "[encoded data removed]",
      "text/plain": [
       "<Figure size 400x300 with 1 Axes>"
      ]
     },
     "metadata": {},
     "output_type": "display_data"
    }
   ],
   "source": [
    "# Visualization \n",
    "plt.figure(figsize=(4,3))\n",
    "plt.title('Feature Importances')\n",
    "sns.barplot(x=ftr_top10['importance'], y=ftr_top10['features'], palette='Blues_r');"
   ]
  },
  {
   "cell_type": "markdown",
   "id": "a4403b8b-39aa-4972-b848-ee1d42513b02",
   "metadata": {
    "jp-MarkdownHeadingCollapsed": true
   },
   "source": [
    "#### Partial Dependence Plot"
   ]
  },
  {
   "cell_type": "code",
   "execution_count": 188,
   "id": "b59195c5-7631-4415-9642-c127a0aa92b1",
   "metadata": {},
   "outputs": [
    {
     "data": {
      "image/png": "[encoded data removed]",
      "text/plain": [
       "<Figure size 640x480 with 5 Axes>"
      ]
     },
     "metadata": {},
     "output_type": "display_data"
    }
   ],
   "source": [
    "from sklearn.inspection import PartialDependenceDisplay\n",
    "\n",
    "PartialDependenceDisplay.from_estimator(model, X_train,  # 학습된 모델과 X값을 넣어 줍니다.\n",
    "                                        features=['poutcome_success', 'poutcome_failure', 'poutcome_other', 'poutcome_unknown'],  # list 안에 확인할 대상이 되는 입력변수의 정보를 넣어 줍니다.\n",
    "                                        n_cols=4,  # 그래프에 최대 몇 개까지의 열을 허용할 것인지에 대한 값입니다. default는 3이며, 이 경우 네 개의 변수를 비교해 보고 싶으므로 4로 설정해 주었습니다.\n",
    "                                        kind='average',  # default 값이 'average'이며, 이는 데이터셋에 있는 모든 샘플에 대한 partial dependence 수치를 평균 내어 보여주겠다는 의미입니다.\n",
    "                                                         # kind='individual'로 설정하면 모든 샘플의 값을 다 보여주는 ICE plot이 그려집니다.\n",
    ");"
   ]
  },
  {
   "cell_type": "markdown",
   "id": "c7150cd1-bb1f-4cbe-9e36-f0fe84c17d11",
   "metadata": {},
   "source": [
    "poutcome_success가 1로 갈수록 정기예금 가입 가능성이 높아지는 형태가 관찰됩니다. poutcome_success에서 1은 이전 캠페인의 결과가 성공이었음을 의미하므로, 이전 캠페인의 결과가 성공이었을 경우 고객의 정기예금 가입 가능성이 높게 예측되고 있다고 해석할 수 있습니다."
   ]
  },
  {
   "cell_type": "markdown",
   "id": "17ac42a9-cc11-4bd7-82a8-82580a691597",
   "metadata": {},
   "source": [
    "poutcome_success가 1로 갈수록 정기예금 가입 가능성이 높아지는 형태가 관찰됩니다. poutcome_success에서 1은 이전 캠페인의 결과가 성공이었음을 의미하므로, 이전 캠페인의 결과가 성공이었을 경우 고객의 정기예금 가입 가능성이 높게 예측되고 있다고 해석할 수 있습니다."
   ]
  },
  {
   "cell_type": "code",
   "execution_count": 189,
   "id": "59a97226-8274-412b-a642-0de8be9f6ad9",
   "metadata": {},
   "outputs": [
    {
     "data": {
      "image/png": "[encoded data removed]",
      "text/plain": [
       "<Figure size 640x480 with 4 Axes>"
      ]
     },
     "metadata": {},
     "output_type": "display_data"
    }
   ],
   "source": [
    "PartialDependenceDisplay.from_estimator(model, X_train, features=['contact_unknown', 'contact_cellular', 'contact_telephone'],  kind='average');"
   ]
  },
  {
   "cell_type": "markdown",
   "id": "32bdc523-db6e-4f83-a5af-73ce115a218c",
   "metadata": {},
   "source": [
    "contact_unknown에서 1은 고객에게 연락할 수 있는 수단을 모른다는 의미입니다. 고객의 연락 수단을 알 수 없는 경우 고객의 정기예금 가입 가능성이 낮게 예측되고 있음을 확인할 수 있습니다.\n",
    "\n",
    "그리고 반대로 contact_cellular의 경우 1로 갈수록 정기예금 가입 가능성이 높게 예측되고 있는데, contact_cellular에서 1은 고객에의 연락수단이 휴대전화임을 의미합니다. 즉, 고객의 연락수단을 모르는 경우보다 휴대전화 번호를 알고 있는 경우에 정기예금 가입 가능성이 높게 예측된다고 해석할 수 있습니다."
   ]
  },
  {
   "cell_type": "code",
   "execution_count": 190,
   "id": "b0bbab5f-66d1-48ce-8547-1677f4da2aaf",
   "metadata": {},
   "outputs": [
    {
     "data": {
      "image/png": "[encoded data removed]",
      "text/plain": [
       "<Figure size 640x480 with 2 Axes>"
      ]
     },
     "metadata": {},
     "output_type": "display_data"
    }
   ],
   "source": [
    "PartialDependenceDisplay.from_estimator(model, X_train, features=['age'],  kind='average');"
   ]
  },
  {
   "cell_type": "markdown",
   "id": "9784019b-968b-40f4-85dd-47a6415ea3b4",
   "metadata": {},
   "source": [
    "고객의 나이가 20대 이하인 경우 & 60대 이상인 경우에서 정기예금 가입 가능성이 높게 예측되고 있음을 확인할 수 있습니다."
   ]
  },
  {
   "cell_type": "code",
   "execution_count": 192,
   "id": "cd14ae4d-befa-4b0b-a205-a23a751166ab",
   "metadata": {},
   "outputs": [
    {
     "data": {
      "image/png": "[encoded data removed]",
      "text/plain": [
       "<Figure size 640x480 with 2 Axes>"
      ]
     },
     "metadata": {},
     "output_type": "display_data"
    }
   ],
   "source": [
    "PartialDependenceDisplay.from_estimator(model, X_train, features=['balance'],  kind='average');"
   ]
  },
  {
   "cell_type": "markdown",
   "id": "027e9650-2c56-4321-abe3-f3573fea019b",
   "metadata": {},
   "source": [
    "balance는 고객의 연평균 통장 잔고입니다. 금액이 많을수록 정기예금 가입 가능성이 높아지는 경향이 있으며, 2000유로 이상부터는 큰 차이는 없음을 확인할 수 있습니다."
   ]
  },
  {
   "cell_type": "markdown",
   "id": "e7580600-41c7-4015-b0c5-fb93a621d2a1",
   "metadata": {},
   "source": [
    "### Results Interpretation"
   ]
  },
  {
   "cell_type": "markdown",
   "id": "37fb239b-eb6e-4dfe-9b7e-57d88f7770f2",
   "metadata": {},
   "source": [
    "결론 - 모델링 결과\n",
    "\n",
    "고객의 과거 캠페인 결과, 연락 수단 정보, 나이, 통장 잔고 등의 정보를 통해 정기예금 가입 가능성이 높은 고객을 80~90% 정도의 정확도로 예측할 수 있음\n",
    "단, 정기예금을 가입할 고객에 대한 예측보다 가입하지 않을 고객에 대한 예측 정확도가 더 높으므로, 모델링 결과를 활용할 때 이 사실을 참고할 필요가 있음\n",
    "\n",
    "향후의 마케팅 전략에 대한 아이디어 제안\n",
    "\n",
    "- 10대~20대 혹은 아예 60대 이상일 경우 정기예금 가입 가능성이 높아지므로, 두 세대를 각각 다르게 공략할 방안이 필요 (예: 20대 이하에게는 학생 및 사회초년생을 위한 상품을 안내, 60대 이상에게는 퇴직 후의 자금 관리를 위한 상품을 안내)\n",
    "- 이전 캠페인에서 성공적인 결과가 있었던 경우 정기예금 가입 가능성이 높아지므로, 다음 캠페인 고민시 해당 캠페인을 참고한다면 도움이 될 수 있음\n",
    "- 고객과의 연락수단이 휴대전화인 경우 정기예금 가입 가능성이 높아지므로, 고객이 휴대전화를 기본 연락수단으로 설정하도록 독려하는 것도 도움이 될 수 있음\n",
    "고객의 통장 잔고가 2000유로 이상인 경우 정기예금 가입 가능성이 높게 나타나므로, 해당 수준 이상인 고객을 마케팅 시 최우선 타게팅하는 방안을 고민 가능"
   ]
  },
  {
   "cell_type": "markdown",
   "id": "b92ef234-3089-4514-a78b-a0f60ae48be5",
   "metadata": {},
   "source": [
    "### Python Code Notes "
   ]
  },
  {
   "cell_type": "markdown",
   "id": "3177b2c5-9145-47ba-b945-2ac182e29e1e",
   "metadata": {
    "jp-MarkdownHeadingCollapsed": true
   },
   "source": [
    "#### Iloc vs Loc"
   ]
  },
  {
   "cell_type": "code",
   "execution_count": 51,
   "id": "976d17a9-69b5-4e0b-8349-ffb99f5ecbc3",
   "metadata": {},
   "outputs": [
    {
     "data": {
      "text/html": [
       "<div>\n",
       "<style scoped>\n",
       "    .dataframe tbody tr th:only-of-type {\n",
       "        vertical-align: middle;\n",
       "    }\n",
       "\n",
       "    .dataframe tbody tr th {\n",
       "        vertical-align: top;\n",
       "    }\n",
       "\n",
       "    .dataframe thead th {\n",
       "        text-align: right;\n",
       "    }\n",
       "</style>\n",
       "<table border=\"1\" class=\"dataframe\">\n",
       "  <thead>\n",
       "    <tr style=\"text-align: right;\">\n",
       "      <th></th>\n",
       "      <th>age</th>\n",
       "      <th>job</th>\n",
       "    </tr>\n",
       "  </thead>\n",
       "  <tbody>\n",
       "    <tr>\n",
       "      <th>6</th>\n",
       "      <td>28</td>\n",
       "      <td>management</td>\n",
       "    </tr>\n",
       "    <tr>\n",
       "      <th>11</th>\n",
       "      <td>29</td>\n",
       "      <td>admin.</td>\n",
       "    </tr>\n",
       "    <tr>\n",
       "      <th>20</th>\n",
       "      <td>28</td>\n",
       "      <td>blue-collar</td>\n",
       "    </tr>\n",
       "    <tr>\n",
       "      <th>23</th>\n",
       "      <td>25</td>\n",
       "      <td>services</td>\n",
       "    </tr>\n",
       "    <tr>\n",
       "      <th>36</th>\n",
       "      <td>25</td>\n",
       "      <td>blue-collar</td>\n",
       "    </tr>\n",
       "  </tbody>\n",
       "</table>\n",
       "</div>"
      ],
      "text/plain": [
       "    age          job\n",
       "6    28   management\n",
       "11   29       admin.\n",
       "20   28  blue-collar\n",
       "23   25     services\n",
       "36   25  blue-collar"
      ]
     },
     "execution_count": 51,
     "metadata": {},
     "output_type": "execute_result"
    }
   ],
   "source": [
    "# 결과 같음 \n",
    "bank_df.loc[bank_df['age'] < 30, ['age','job']].head()\n",
    "bank_df[bank_df['age'] < 30][['age','job']].head() #Multiple Column 이니 대괄호 2개여함 (첫번째 for indexing, 두번째 for making it as list)"
   ]
  },
  {
   "cell_type": "code",
   "execution_count": 55,
   "id": "1994ea75-3ae3-498d-8c35-5fe3d08747ac",
   "metadata": {},
   "outputs": [
    {
     "data": {
      "text/plain": [
       "6        28\n",
       "11       29\n",
       "20       28\n",
       "23       25\n",
       "36       25\n",
       "         ..\n",
       "45192    29\n",
       "45193    28\n",
       "45196    25\n",
       "45203    23\n",
       "45205    25\n",
       "Name: age, Length: 5272, dtype: int64"
      ]
     },
     "execution_count": 55,
     "metadata": {},
     "output_type": "execute_result"
    }
   ],
   "source": [
    "bank_df[bank_df['age'] < 30]['age'] #Column 1 개 refer 할꺼면 대괄호 1개면 됨"
   ]
  },
  {
   "cell_type": "code",
   "execution_count": 56,
   "id": "cbc4d846-ddf6-4e70-9ad6-bc5181d9f7c3",
   "metadata": {},
   "outputs": [
    {
     "data": {
      "text/plain": [
       "age                  24\n",
       "job          technician\n",
       "marital          single\n",
       "education     secondary\n",
       "default              no\n",
       "balance            -103\n",
       "housing             yes\n",
       "loan                yes\n",
       "contact         unknown\n",
       "day                   5\n",
       "month               may\n",
       "campaign              1\n",
       "pdays               NaN\n",
       "previous              0\n",
       "poutcome        unknown\n",
       "y                    no\n",
       "Name: 54, dtype: object"
      ]
     },
     "execution_count": 56,
     "metadata": {},
     "output_type": "execute_result"
    }
   ],
   "source": [
    "# Refer to specific row: \n",
    "bank_df[bank_df['age'] < 30].iloc[6]"
   ]
  },
  {
   "cell_type": "markdown",
   "id": "7dbab6bd-7f51-4d22-a9f2-a90348b934f6",
   "metadata": {},
   "source": [
    "#### Applying Case When Statements: "
   ]
  },
  {
   "cell_type": "markdown",
   "id": "29e9f2f3-13b1-4368-abfd-49c8578bc2bf",
   "metadata": {},
   "source": [
    "##### 1. Binary Categories"
   ]
  },
  {
   "cell_type": "code",
   "execution_count": 61,
   "id": "f006b0a9-c16b-44bb-b853-e7c28c28a562",
   "metadata": {},
   "outputs": [
    {
     "data": {
      "text/plain": [
       "senior_ind\n",
       "non-senior    44385\n",
       "senior          810\n",
       "Name: count, dtype: int64"
      ]
     },
     "execution_count": 61,
     "metadata": {},
     "output_type": "execute_result"
    }
   ],
   "source": [
    "bank_df['senior_ind'] = np.where(bank_df['age'] >= 65, 'senior', 'non-senior')\n",
    "bank_df['senior_ind'] = bank_df['age'].apply(lambda x: 'senior' if x >= 65 else 'non-senior')\n",
    "bank_df['senior_ind'].value_counts()"
   ]
  },
  {
   "cell_type": "markdown",
   "id": "5bd3416d-971b-4633-8c04-33c554a6fbeb",
   "metadata": {},
   "source": [
    "##### 2. Multiple Categories"
   ]
  },
  {
   "cell_type": "code",
   "execution_count": 93,
   "id": "2eb657d4-84ef-4d43-a19e-ce588926b971",
   "metadata": {},
   "outputs": [
    {
     "data": {
      "text/plain": [
       "age_group\n",
       "young_adult    39113\n",
       "children        5272\n",
       "senior           810\n",
       "Name: count, dtype: int64"
      ]
     },
     "execution_count": 93,
     "metadata": {},
     "output_type": "execute_result"
    }
   ],
   "source": [
    "bins = [0, 30, 65, np.inf] # bins=[]에는 근데 < 0 , >65 은 또 포함 안 됨 --> 추가로 np.inf 따로 넣어줘야함\n",
    "labels = ['children', 'young_adult', 'senior']\n",
    "bank_df['age_group'] = pd.cut(bank_df['age'], bins=bins, labels=labels, right=False)\n",
    "\n",
    "bank_df['age_group'].value_counts()\n",
    "# bank_df.groupby('age_group')['age'].unique() # Get all unique age in each age group\n",
    "# bank_df.groupby('age_group')['age'].apply(lambda x: sorted(x.unique())) # Get all unique age in each age group, sorted by age"
   ]
  },
  {
   "cell_type": "code",
   "execution_count": 92,
   "id": "d5c5f2d9-d4b2-492b-aa72-c36bbb0db07e",
   "metadata": {},
   "outputs": [
    {
     "data": {
      "text/plain": [
       "age_group\n",
       "young_adult    39113\n",
       "children        5272\n",
       "senior           810\n",
       "Name: count, dtype: int64"
      ]
     },
     "execution_count": 92,
     "metadata": {},
     "output_type": "execute_result"
    }
   ],
   "source": [
    "conditions = [\n",
    "    bank_df['age'] < 30,\n",
    "    bank_df['age'] < 65,\n",
    "    bank_df['age'] >= 65\n",
    "]\n",
    "choices = ['children', 'young_adult', 'senior']\n",
    "bank_df['age_group'] = np.select(conditions, choices, default='unknown')\n",
    "\n",
    "bank_df['age_group'].value_counts()"
   ]
  },
  {
   "cell_type": "code",
   "execution_count": 95,
   "id": "075210ed-4e9d-4e0c-ac4f-d675269826bc",
   "metadata": {},
   "outputs": [
    {
     "data": {
      "text/plain": [
       "age_group\n",
       "young_adult    39113\n",
       "children        5272\n",
       "senior           810\n",
       "Name: count, dtype: int64"
      ]
     },
     "execution_count": 95,
     "metadata": {},
     "output_type": "execute_result"
    }
   ],
   "source": [
    "# If the condition refers to multiple columns, this is the best practice\n",
    "def age_group_categories(age):\n",
    "    if age < 30:\n",
    "        return 'children'\n",
    "    elif age < 65:\n",
    "        return 'young_adult'\n",
    "    elif age >= 65:\n",
    "        return 'senior'\n",
    "    else:\n",
    "        return 'NaN'\n",
    "\n",
    "bank_df['age_group'] = bank_df['age'].apply(age_group_categories)\n",
    "\n",
    "bank_df['age_group'].value_counts()"
   ]
  },
  {
   "cell_type": "code",
   "execution_count": 100,
   "id": "df99bdbb-e986-46c4-9507-42f7db0795b0",
   "metadata": {},
   "outputs": [
    {
     "data": {
      "text/plain": [
       "age_balance_group\n",
       "other                 44373\n",
       "senior                  810\n",
       "young_high_balance       12\n",
       "Name: count, dtype: int64"
      ]
     },
     "execution_count": 100,
     "metadata": {},
     "output_type": "execute_result"
    }
   ],
   "source": [
    "# IF multiple column condition, the function takes DF as input, instead of single column (Hence need to add axis=1 in apply.())\n",
    "def label_customer(df):\n",
    "    if df['age'] < 30 and df['balance'] > 20000:\n",
    "        return 'young_high_balance'\n",
    "    elif df['age'] >= 65:\n",
    "        return 'senior'\n",
    "    else:\n",
    "        return 'other'\n",
    "\n",
    "bank_df['age_balance_group'] = bank_df.apply(label_customer, axis=1)\n",
    "bank_df['age_balance_group'].value_counts()"
   ]
  },
  {
   "cell_type": "code",
   "execution_count": null,
   "id": "d14c108c-9c5a-4d05-84b8-5c4a7820ce35",
   "metadata": {},
   "outputs": [],
   "source": []
  },
  {
   "cell_type": "code",
   "execution_count": null,
   "id": "cc7e60c1-3691-48c9-a09c-3a1081f5fdcf",
   "metadata": {},
   "outputs": [],
   "source": []
  },
  {
   "cell_type": "code",
   "execution_count": null,
   "id": "5516a043-75a9-4aa2-b22b-f1806d3c51f8",
   "metadata": {},
   "outputs": [],
   "source": []
  },
  {
   "cell_type": "code",
   "execution_count": null,
   "id": "32b3e1a8-2629-466e-83db-8394a1720734",
   "metadata": {},
   "outputs": [],
   "source": []
  },
  {
   "cell_type": "code",
   "execution_count": null,
   "id": "697d3f68-93e5-426b-a6ab-5d277885a9d5",
   "metadata": {},
   "outputs": [],
   "source": []
  }
 ],
 "metadata": {
  "kernelspec": {
   "display_name": "Python [conda env:base] *",
   "language": "python",
   "name": "conda-base-py"
  },
  "language_info": {
   "codemirror_mode": {
    "name": "ipython",
    "version": 3
   },
   "file_extension": ".py",
   "mimetype": "text/x-python",
   "name": "python",
   "nbconvert_exporter": "python",
   "pygments_lexer": "ipython3",
   "version": "3.12.7"
  }
 },
 "nbformat": 4,
 "nbformat_minor": 5
}
